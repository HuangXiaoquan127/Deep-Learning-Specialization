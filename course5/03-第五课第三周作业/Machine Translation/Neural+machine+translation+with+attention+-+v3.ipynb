{
 "cells": [
  {
   "cell_type": "markdown",
   "metadata": {},
   "source": [
    "# Neural Machine Translation\n",
    "\n",
    "Welcome to your first programming assignment for this week! \n",
    "\n",
    "You will build a Neural Machine Translation (NMT) model to translate human readable dates (\"25th of June, 2009\") into machine readable dates (\"2009-06-25\"). You will do this using an attention model, one of the most sophisticated sequence to sequence models. \n",
    "\n",
    "This notebook was produced together with NVIDIA's Deep Learning Institute. \n",
    "\n",
    "Let's load all the packages you will need for this assignment."
   ]
  },
  {
   "cell_type": "code",
   "execution_count": 1,
   "metadata": {},
   "outputs": [
    {
     "name": "stderr",
     "output_type": "stream",
     "text": [
      "Using TensorFlow backend.\n"
     ]
    }
   ],
   "source": [
    "from keras.layers import Bidirectional, Concatenate, Permute, Dot, Input, LSTM, Multiply\n",
    "from keras.layers import RepeatVector, Dense, Activation, Lambda\n",
    "from keras.optimizers import Adam\n",
    "from keras.utils import to_categorical\n",
    "from keras.models import load_model, Model\n",
    "import keras.backend as K\n",
    "import numpy as np\n",
    "\n",
    "from faker import Faker\n",
    "import random\n",
    "from tqdm import tqdm\n",
    "from babel.dates import format_date\n",
    "from nmt_utils import *\n",
    "import matplotlib.pyplot as plt\n",
    "%matplotlib inline"
   ]
  },
  {
   "cell_type": "markdown",
   "metadata": {},
   "source": [
    "## 1 - Translating human readable dates into machine readable dates\n",
    "\n",
    "The model you will build here could be used to translate from one language to another, such as translating from English to Hindi. However, language translation requires massive datasets and usually takes days of training on GPUs. To give you a place to experiment with these models even without using massive datasets, we will instead use a simpler \"date translation\" task. \n",
    "\n",
    "The network will input a date written in a variety of possible formats (*e.g. \"the 29th of August 1958\", \"03/30/1968\", \"24 JUNE 1987\"*) and translate them into standardized, machine readable dates (*e.g. \"1958-08-29\", \"1968-03-30\", \"1987-06-24\"*). We will have the network learn to output dates in the common machine-readable format YYYY-MM-DD. \n",
    "\n",
    "\n",
    "\n",
    "<!-- \n",
    "Take a look at [nmt_utils.py](./nmt_utils.py) to see all the formatting. Count and figure out how the formats work, you will need this knowledge later. !--> "
   ]
  },
  {
   "cell_type": "markdown",
   "metadata": {},
   "source": [
    "### 1.1 - Dataset\n",
    "\n",
    "We will train the model on a dataset of 10000 human readable dates and their equivalent, standardized, machine readable dates. Let's run the following cells to load the dataset and print some examples. "
   ]
  },
  {
   "cell_type": "code",
   "execution_count": 2,
   "metadata": {},
   "outputs": [
    {
     "name": "stderr",
     "output_type": "stream",
     "text": [
      "100%|█████████████████████████████████████████████████████████████████████████| 10000/10000 [00:00<00:00, 28566.36it/s]\n"
     ]
    }
   ],
   "source": [
    "m = 10000\n",
    "dataset, human_vocab, machine_vocab, inv_machine_vocab = load_dataset(m)"
   ]
  },
  {
   "cell_type": "code",
   "execution_count": 3,
   "metadata": {},
   "outputs": [
    {
     "data": {
      "text/plain": [
       "[('9 may 1998', '1998-05-09'),\n",
       " ('10.09.70', '1970-09-10'),\n",
       " ('4/28/90', '1990-04-28'),\n",
       " ('thursday january 26 1995', '1995-01-26'),\n",
       " ('monday march 7 1983', '1983-03-07'),\n",
       " ('sunday may 22 1988', '1988-05-22'),\n",
       " ('tuesday july 8 2008', '2008-07-08'),\n",
       " ('08 sep 1999', '1999-09-08'),\n",
       " ('1 jan 1981', '1981-01-01'),\n",
       " ('monday may 22 1995', '1995-05-22')]"
      ]
     },
     "execution_count": 3,
     "metadata": {},
     "output_type": "execute_result"
    }
   ],
   "source": [
    "dataset[:10]"
   ]
  },
  {
   "cell_type": "code",
   "execution_count": 4,
   "metadata": {},
   "outputs": [
    {
     "name": "stdout",
     "output_type": "stream",
     "text": [
      "{' ': 0, '.': 1, '/': 2, '0': 3, '1': 4, '2': 5, '3': 6, '4': 7, '5': 8, '6': 9, '7': 10, '8': 11, '9': 12, 'a': 13, 'b': 14, 'c': 15, 'd': 16, 'e': 17, 'f': 18, 'g': 19, 'h': 20, 'i': 21, 'j': 22, 'l': 23, 'm': 24, 'n': 25, 'o': 26, 'p': 27, 'r': 28, 's': 29, 't': 30, 'u': 31, 'v': 32, 'w': 33, 'y': 34, '<unk>': 35, '<pad>': 36}\n",
      "{'-': 0, '0': 1, '1': 2, '2': 3, '3': 4, '4': 5, '5': 6, '6': 7, '7': 8, '8': 9, '9': 10}\n"
     ]
    }
   ],
   "source": [
    "print(human_vocab)\n",
    "print(machine_vocab)"
   ]
  },
  {
   "cell_type": "markdown",
   "metadata": {},
   "source": [
    "You've loaded:\n",
    "- `dataset`: a list of tuples of (human readable date, machine readable date)\n",
    "- `human_vocab`: a python dictionary mapping all characters used in the human readable dates to an integer-valued index \n",
    "- `machine_vocab`: a python dictionary mapping all characters used in machine readable dates to an integer-valued index. These indices are not necessarily consistent with `human_vocab`. \n",
    "- `inv_machine_vocab`: the inverse dictionary of `machine_vocab`, mapping from indices back to characters. \n",
    "\n",
    "Let's preprocess the data and map the raw text data into the index values. We will also use Tx=30 (which we assume is the maximum length of the human readable date; if we get a longer input, we would have to truncate it) and Ty=10 (since \"YYYY-MM-DD\" is 10 characters long). "
   ]
  },
  {
   "cell_type": "code",
   "execution_count": 5,
   "metadata": {},
   "outputs": [
    {
     "name": "stdout",
     "output_type": "stream",
     "text": [
      "X.shape: (10000, 30)\n",
      "Y.shape: (10000, 10)\n",
      "Xoh.shape: (10000, 30, 37)\n",
      "Yoh.shape: (10000, 10, 11)\n"
     ]
    }
   ],
   "source": [
    "Tx = 30\n",
    "Ty = 10\n",
    "X, Y, Xoh, Yoh = preprocess_data(dataset, human_vocab, machine_vocab, Tx, Ty)\n",
    "\n",
    "print(\"X.shape:\", X.shape)\n",
    "print(\"Y.shape:\", Y.shape)\n",
    "print(\"Xoh.shape:\", Xoh.shape)\n",
    "print(\"Yoh.shape:\", Yoh.shape)"
   ]
  },
  {
   "cell_type": "markdown",
   "metadata": {},
   "source": [
    "You now have:\n",
    "- `X`: a processed version of the human readable dates in the training set, where each character is replaced by an index mapped to the character via `human_vocab`. Each date is further padded to $T_x$ values with a special character (< pad >). `X.shape = (m, Tx)`\n",
    "- `Y`: a processed version of the machine readable dates in the training set, where each character is replaced by the index it is mapped to in `machine_vocab`. You should have `Y.shape = (m, Ty)`. \n",
    "- `Xoh`: one-hot version of `X`, the \"1\" entry's index is mapped to the character thanks to `human_vocab`. `Xoh.shape = (m, Tx, len(human_vocab))`\n",
    "- `Yoh`: one-hot version of `Y`, the \"1\" entry's index is mapped to the character thanks to `machine_vocab`. `Yoh.shape = (m, Tx, len(machine_vocab))`. Here, `len(machine_vocab) = 11` since there are 11 characters ('-' as well as 0-9). \n"
   ]
  },
  {
   "cell_type": "markdown",
   "metadata": {},
   "source": [
    "Lets also look at some examples of preprocessed training examples. Feel free to play with `index` in the cell below to navigate the dataset and see how source/target dates are preprocessed. "
   ]
  },
  {
   "cell_type": "code",
   "execution_count": 6,
   "metadata": {},
   "outputs": [
    {
     "name": "stdout",
     "output_type": "stream",
     "text": [
      "Source date: 9 may 1998\n",
      "Target date: 1998-05-09\n",
      "\n",
      "Source after preprocessing (indices): [12  0 24 13 34  0  4 12 12 11 36 36 36 36 36 36 36 36 36 36 36 36 36 36\n",
      " 36 36 36 36 36 36]\n",
      "Target after preprocessing (indices): [ 2 10 10  9  0  1  6  0  1 10]\n",
      "\n",
      "Source after preprocessing (one-hot): [[0. 0. 0. ... 0. 0. 0.]\n",
      " [1. 0. 0. ... 0. 0. 0.]\n",
      " [0. 0. 0. ... 0. 0. 0.]\n",
      " ...\n",
      " [0. 0. 0. ... 0. 0. 1.]\n",
      " [0. 0. 0. ... 0. 0. 1.]\n",
      " [0. 0. 0. ... 0. 0. 1.]]\n",
      "Target after preprocessing (one-hot): [[0. 0. 1. 0. 0. 0. 0. 0. 0. 0. 0.]\n",
      " [0. 0. 0. 0. 0. 0. 0. 0. 0. 0. 1.]\n",
      " [0. 0. 0. 0. 0. 0. 0. 0. 0. 0. 1.]\n",
      " [0. 0. 0. 0. 0. 0. 0. 0. 0. 1. 0.]\n",
      " [1. 0. 0. 0. 0. 0. 0. 0. 0. 0. 0.]\n",
      " [0. 1. 0. 0. 0. 0. 0. 0. 0. 0. 0.]\n",
      " [0. 0. 0. 0. 0. 0. 1. 0. 0. 0. 0.]\n",
      " [1. 0. 0. 0. 0. 0. 0. 0. 0. 0. 0.]\n",
      " [0. 1. 0. 0. 0. 0. 0. 0. 0. 0. 0.]\n",
      " [0. 0. 0. 0. 0. 0. 0. 0. 0. 0. 1.]]\n"
     ]
    }
   ],
   "source": [
    "index = 0\n",
    "print(\"Source date:\", dataset[index][0])\n",
    "print(\"Target date:\", dataset[index][1])\n",
    "print()\n",
    "print(\"Source after preprocessing (indices):\", X[index])\n",
    "print(\"Target after preprocessing (indices):\", Y[index])\n",
    "print()\n",
    "print(\"Source after preprocessing (one-hot):\", Xoh[index])\n",
    "print(\"Target after preprocessing (one-hot):\", Yoh[index])"
   ]
  },
  {
   "cell_type": "markdown",
   "metadata": {},
   "source": [
    "## 2 - Neural machine translation with attention\n",
    "\n",
    "If you had to translate a book's paragraph from French to English, you would not read the whole paragraph, then close the book and translate. Even during the translation process, you would read/re-read and focus on the parts of the French paragraph corresponding to the parts of the English you are writing down. \n",
    "\n",
    "The attention mechanism tells a Neural Machine Translation model where it should pay attention to at any step. \n",
    "\n",
    "\n",
    "### 2.1 - Attention mechanism\n",
    "\n",
    "In this part, you will implement the attention mechanism presented in the lecture videos. Here is a figure to remind you how the model works. The diagram on the left shows the attention model. The diagram on the right shows what one \"Attention\" step does to calculate the attention variables $\\alpha^{\\langle t, t' \\rangle}$, which are used to compute the context variable $context^{\\langle t \\rangle}$ for each timestep in the output ($t=1, \\ldots, T_y$). \n",
    "\n",
    "<table>\n",
    "<td> \n",
    "<img src=\"images/attn_model.png\" style=\"width:500;height:500px;\"> <br>\n",
    "</td> \n",
    "<td> \n",
    "<img src=\"images/attn_mechanism.png\" style=\"width:500;height:500px;\"> <br>\n",
    "</td> \n",
    "</table>\n",
    "<caption><center> **Figure 1**: Neural machine translation with attention</center></caption>\n"
   ]
  },
  {
   "cell_type": "markdown",
   "metadata": {},
   "source": [
    "\n",
    "Here are some properties of the model that you may notice: \n",
    "\n",
    "- There are two separate LSTMs in this model (see diagram on the left). Because the one at the bottom of the picture is a Bi-directional LSTM and comes *before* the attention mechanism, we will call it *pre-attention* Bi-LSTM. The LSTM at the top of the diagram comes *after* the attention mechanism, so we will call it the *post-attention* LSTM. The pre-attention Bi-LSTM goes through $T_x$ time steps; the post-attention LSTM goes through $T_y$ time steps. \n",
    "\n",
    "- The post-attention LSTM passes $s^{\\langle t \\rangle}, c^{\\langle t \\rangle}$ from one time step to the next. In the lecture videos, we were using only a basic RNN for the post-activation sequence model, so the state captured by the RNN output activations $s^{\\langle t\\rangle}$. But since we are using an LSTM here, the LSTM has both the output activation $s^{\\langle t\\rangle}$ and the hidden cell state $c^{\\langle t\\rangle}$. However, unlike previous text generation examples (such as Dinosaurus in week 1), in this model the post-activation LSTM at time $t$ does will not take the specific generated $y^{\\langle t-1 \\rangle}$ as input; it only takes $s^{\\langle t\\rangle}$ and $c^{\\langle t\\rangle}$ as input. We have designed the model this way, because (unlike language generation where adjacent characters are highly correlated) there isn't as strong a dependency between the previous character and the next character in a YYYY-MM-DD date. \n",
    "\n",
    "- We use $a^{\\langle t \\rangle} = [\\overrightarrow{a}^{\\langle t \\rangle}; \\overleftarrow{a}^{\\langle t \\rangle}]$ to represent the concatenation of the activations of both the forward-direction and backward-directions of the pre-attention Bi-LSTM. \n",
    "\n",
    "- The diagram on the right uses a `RepeatVector` node to copy $s^{\\langle t-1 \\rangle}$'s value $T_x$ times, and then `Concatenation` to concatenate $s^{\\langle t-1 \\rangle}$ and $a^{\\langle t \\rangle}$ to compute $e^{\\langle t, t'}$, which is then passed through a softmax to compute $\\alpha^{\\langle t, t' \\rangle}$. We'll explain how to use `RepeatVector` and `Concatenation` in Keras below. \n",
    "\n",
    "Lets implement this model. You will start by implementing two functions: `one_step_attention()` and `model()`.\n",
    "\n",
    "**1) `one_step_attention()`**: At step $t$, given all the hidden states of the Bi-LSTM ($[a^{<1>},a^{<2>}, ..., a^{<T_x>}]$) and the previous hidden state of the second LSTM ($s^{<t-1>}$), `one_step_attention()` will compute the attention weights ($[\\alpha^{<t,1>},\\alpha^{<t,2>}, ..., \\alpha^{<t,T_x>}]$) and output the context vector (see Figure  1 (right) for details):\n",
    "$$context^{<t>} = \\sum_{t' = 0}^{T_x} \\alpha^{<t,t'>}a^{<t'>}\\tag{1}$$ \n",
    "\n",
    "Note that we are denoting the attention in this notebook $context^{\\langle t \\rangle}$. In the lecture videos, the context was denoted $c^{\\langle t \\rangle}$, but here we are calling it $context^{\\langle t \\rangle}$ to avoid confusion with the (post-attention) LSTM's internal memory cell variable, which is sometimes also denoted $c^{\\langle t \\rangle}$. \n",
    "  \n",
    "**2) `model()`**: Implements the entire model. It first runs the input through a Bi-LSTM to get back $[a^{<1>},a^{<2>}, ..., a^{<T_x>}]$. Then, it calls `one_step_attention()` $T_y$ times (`for` loop). At each iteration of this loop, it gives the computed context vector $c^{<t>}$ to the second LSTM, and runs the output of the LSTM through a dense layer with softmax activation to generate a prediction $\\hat{y}^{<t>}$. \n",
    "\n",
    "\n",
    "\n",
    "**Exercise**: Implement `one_step_attention()`. The function `model()` will call the layers in `one_step_attention()` $T_y$ using a for-loop, and it is important that all $T_y$ copies have the same weights. I.e., it should not re-initiaiize the weights every time. In other words, all $T_y$ steps should have shared weights. Here's how you can implement layers with shareable weights in Keras:\n",
    "1. Define the layer objects (as global variables for examples).\n",
    "2. Call these objects when propagating the input.\n",
    "\n",
    "We have defined the layers you need as global variables. Please run the following cells to create them. Please check the Keras documentation to make sure you understand what these layers are: [RepeatVector()](https://keras.io/layers/core/#repeatvector), [Concatenate()](https://keras.io/layers/merge/#concatenate), [Dense()](https://keras.io/layers/core/#dense), [Activation()](https://keras.io/layers/core/#activation), [Dot()](https://keras.io/layers/merge/#dot)."
   ]
  },
  {
   "cell_type": "code",
   "execution_count": 7,
   "metadata": {},
   "outputs": [],
   "source": [
    "# Defined shared layers as global variables\n",
    "repeator = RepeatVector(Tx)\n",
    "concatenator = Concatenate(axis=-1)\n",
    "densor1 = Dense(10, activation = \"tanh\")\n",
    "densor2 = Dense(1, activation = \"relu\")\n",
    "activator = Activation(softmax, name='attention_weights') # We are using a custom softmax(axis = 1) loaded in this notebook\n",
    "dotor = Dot(axes = 1)"
   ]
  },
  {
   "cell_type": "markdown",
   "metadata": {},
   "source": [
    "Now you can use these layers to implement `one_step_attention()`. In order to propagate a Keras tensor object X through one of these layers, use `layer(X)` (or `layer([X,Y])` if it requires multiple inputs.), e.g. `densor(X)` will propagate X through the `Dense(1)` layer defined above."
   ]
  },
  {
   "cell_type": "code",
   "execution_count": 8,
   "metadata": {},
   "outputs": [],
   "source": [
    "# GRADED FUNCTION: one_step_attention\n",
    "\n",
    "def one_step_attention(a, s_prev):\n",
    "    \"\"\"\n",
    "    Performs one step of attention: Outputs a context vector computed as a dot product of the attention weights\n",
    "    \"alphas\" and the hidden states \"a\" of the Bi-LSTM.\n",
    "    \n",
    "    Arguments:\n",
    "    a -- hidden state output of the Bi-LSTM, numpy-array of shape (m, Tx, 2*n_a)\n",
    "    s_prev -- previous hidden state of the (post-attention) LSTM, numpy-array of shape (m, n_s)\n",
    "    \n",
    "    Returns:\n",
    "    context -- context vector, input of the next (post-attetion) LSTM cell\n",
    "    \"\"\"\n",
    "    \n",
    "    ### START CODE HERE ###\n",
    "    # Use repeator to repeat s_prev to be of shape (m, Tx, n_s) so that you can concatenate it with all hidden states \"a\" (≈ 1 line)\n",
    "    s_prev = repeator(s_prev)\n",
    "#     print(s_prev.shape)  #(?, 30, 64)\n",
    "    # Use concatenator to concatenate a and s_prev on the last axis (≈ 1 line)\n",
    "    concat = concatenator([a, s_prev])\n",
    "#     print(concat.shape)  #(?, 30, 128)\n",
    "    # Use densor1 to propagate concat through a small fully-connected neural network to compute the \"intermediate energies\" variable e. (≈1 lines)\n",
    "    e = densor1(concat)\n",
    "    # Use densor2 to propagate e through a small fully-connected neural network to compute the \"energies\" variable energies. (≈1 lines)\n",
    "    energies = densor2(e)\n",
    "    # Use \"activator\" on \"energies\" to compute the attention weights \"alphas\" (≈ 1 line)\n",
    "    alphas = activator(energies)\n",
    "    # Use dotor together with \"alphas\" and \"a\" to compute the context vector to be given to the next (post-attention) LSTM-cell (≈ 1 line)\n",
    "    context = dotor([alphas, a])\n",
    "    ### END CODE HERE ###\n",
    "    \n",
    "    return context"
   ]
  },
  {
   "cell_type": "markdown",
   "metadata": {},
   "source": [
    "You will be able to check the expected output of `one_step_attention()` after you've coded the `model()` function."
   ]
  },
  {
   "cell_type": "markdown",
   "metadata": {},
   "source": [
    "**Exercise**: Implement `model()` as explained in figure 2 and the text above. Again, we have defined global layers that will share weights to be used in `model()`."
   ]
  },
  {
   "cell_type": "code",
   "execution_count": 29,
   "metadata": {},
   "outputs": [],
   "source": [
    "n_a = 32\n",
    "n_s = 64\n",
    "post_activation_LSTM_cell = LSTM(n_s, return_state = True)\n",
    "# post_activation_LSTM_cell = LSTM(n_s) #127: this is test to no return_state c, then shuould not add by c in the after\n",
    "output_layer = Dense(len(machine_vocab), activation=softmax)"
   ]
  },
  {
   "cell_type": "markdown",
   "metadata": {},
   "source": [
    "Now you can use these layers $T_y$ times in a `for` loop to generate the outputs, and their parameters will not be reinitialized. You will have to carry out the following steps: \n",
    "\n",
    "1. Propagate the input into a [Bidirectional](https://keras.io/layers/wrappers/#bidirectional) [LSTM](https://keras.io/layers/recurrent/#lstm)\n",
    "2. Iterate for $t = 0, \\dots, T_y-1$: \n",
    "    1. Call `one_step_attention()` on $[\\alpha^{<t,1>},\\alpha^{<t,2>}, ..., \\alpha^{<t,T_x>}]$ and $s^{<t-1>}$ to get the context vector $context^{<t>}$.\n",
    "    2. Give $context^{<t>}$ to the post-attention LSTM cell. Remember pass in the previous hidden-state $s^{\\langle t-1\\rangle}$ and cell-states $c^{\\langle t-1\\rangle}$ of this LSTM using `initial_state= [previous hidden state, previous cell state]`. Get back the new hidden state $s^{<t>}$ and the new cell state $c^{<t>}$.\n",
    "    3. Apply a softmax layer to $s^{<t>}$, get the output. \n",
    "    4. Save the output by adding it to the list of outputs.\n",
    "\n",
    "3. Create your Keras model instance, it should have three inputs (\"inputs\", $s^{<0>}$ and $c^{<0>}$) and output the list of \"outputs\"."
   ]
  },
  {
   "cell_type": "code",
   "execution_count": 37,
   "metadata": {},
   "outputs": [],
   "source": [
    "from keras.initializers import Ones\n",
    "# z = Ones()\n",
    "import tensorflow as tf\n",
    "# x = tf.zeros((2,3))"
   ]
  },
  {
   "cell_type": "code",
   "execution_count": 40,
   "metadata": {},
   "outputs": [],
   "source": [
    "# GRADED FUNCTION: model\n",
    "\n",
    "def model(Tx, Ty, n_a, n_s, human_vocab_size, machine_vocab_size):\n",
    "    \"\"\"\n",
    "    Arguments:\n",
    "    Tx -- length of the input sequence\n",
    "    Ty -- length of the output sequence\n",
    "    n_a -- hidden state size of the Bi-LSTM\n",
    "    n_s -- hidden state size of the post-attention LSTM\n",
    "    human_vocab_size -- size of the python dictionary \"human_vocab\"\n",
    "    machine_vocab_size -- size of the python dictionary \"machine_vocab\"\n",
    "\n",
    "    Returns:\n",
    "    model -- Keras model instance\n",
    "    \"\"\"\n",
    "    \n",
    "    # Define the inputs of your model with a shape (Tx,)\n",
    "    # Define s0 and c0, initial hidden state for the decoder LSTM of shape (n_s,)\n",
    "    X = Input(shape=(Tx, human_vocab_size))\n",
    "    s0 = Input(shape=(n_s,), name='s0')\n",
    "    c0 = Input(shape=(n_s,), name='c0')\n",
    "    s = s0\n",
    "    c = c0\n",
    "#     s = tf.zeros((n_s,))\n",
    "    \n",
    "    # Initialize empty list of outputs\n",
    "    outputs = []\n",
    "    \n",
    "    ### START CODE HERE ###\n",
    "    \n",
    "    # Step 1: Define your pre-attention Bi-LSTM. Remember to use return_sequences=True. (≈ 1 line)\n",
    "    a = Bidirectional(LSTM(n_a, return_sequences = True))(X)\n",
    "    \n",
    "    # Step 2: Iterate for Ty steps\n",
    "    for t in range(Ty):\n",
    "    \n",
    "        # Step 2.A: Perform one step of the attention mechanism to get back the context vector at step t (≈ 1 line)\n",
    "        context = one_step_attention(a, s)\n",
    "        \n",
    "        # Step 2.B: Apply the post-attention LSTM cell to the \"context\" vector.\n",
    "        # Don't forget to pass: initial_state = [hidden state, cell state] (≈ 1 line)\n",
    "        s, _, c = post_activation_LSTM_cell(context, initial_state = [s, c])\n",
    "#         s = post_activation_LSTM_cell(context)\n",
    "        \n",
    "        # Step 2.C: Apply Dense layer to the hidden state output of the post-attention LSTM (≈ 1 line)\n",
    "        out = output_layer(s)\n",
    "        \n",
    "        # Step 2.D: Append \"out\" to the \"outputs\" list (≈ 1 line)\n",
    "        outputs.append(out)\n",
    "    \n",
    "    # Step 3: Create model instance taking three inputs and returning the list of outputs. (≈ 1 line)\n",
    "    model = Model(inputs = [X, s0, c0], outputs = outputs)\n",
    "#     model = Model(inputs = [X, s0], outputs = outputs)\n",
    "    \n",
    "    ### END CODE HERE ###\n",
    "    \n",
    "    return model"
   ]
  },
  {
   "cell_type": "markdown",
   "metadata": {},
   "source": [
    "Run the following cell to create your model."
   ]
  },
  {
   "cell_type": "code",
   "execution_count": 41,
   "metadata": {},
   "outputs": [],
   "source": [
    "model = model(Tx, Ty, n_a, n_s, len(human_vocab), len(machine_vocab))"
   ]
  },
  {
   "cell_type": "markdown",
   "metadata": {},
   "source": [
    "Let's get a summary of the model to check if it matches the expected output."
   ]
  },
  {
   "cell_type": "code",
   "execution_count": 42,
   "metadata": {},
   "outputs": [
    {
     "name": "stdout",
     "output_type": "stream",
     "text": [
      "__________________________________________________________________________________________________\n",
      "Layer (type)                    Output Shape         Param #     Connected to                     \n",
      "==================================================================================================\n",
      "input_5 (InputLayer)            (None, 30, 37)       0                                            \n",
      "__________________________________________________________________________________________________\n",
      "s0 (InputLayer)                 (None, 64)           0                                            \n",
      "__________________________________________________________________________________________________\n",
      "bidirectional_5 (Bidirectional) (None, 30, 64)       17920       input_5[0][0]                    \n",
      "__________________________________________________________________________________________________\n",
      "repeat_vector_1 (RepeatVector)  (None, 30, 64)       0           s0[0][0]                         \n",
      "                                                                 lstm_3[0][0]                     \n",
      "                                                                 lstm_3[1][0]                     \n",
      "                                                                 lstm_3[2][0]                     \n",
      "                                                                 lstm_3[3][0]                     \n",
      "                                                                 lstm_3[4][0]                     \n",
      "                                                                 lstm_3[5][0]                     \n",
      "                                                                 lstm_3[6][0]                     \n",
      "                                                                 lstm_3[7][0]                     \n",
      "                                                                 lstm_3[8][0]                     \n",
      "__________________________________________________________________________________________________\n",
      "concatenate_1 (Concatenate)     (None, 30, 128)      0           bidirectional_5[0][0]            \n",
      "                                                                 repeat_vector_1[10][0]           \n",
      "                                                                 bidirectional_5[0][0]            \n",
      "                                                                 repeat_vector_1[11][0]           \n",
      "                                                                 bidirectional_5[0][0]            \n",
      "                                                                 repeat_vector_1[12][0]           \n",
      "                                                                 bidirectional_5[0][0]            \n",
      "                                                                 repeat_vector_1[13][0]           \n",
      "                                                                 bidirectional_5[0][0]            \n",
      "                                                                 repeat_vector_1[14][0]           \n",
      "                                                                 bidirectional_5[0][0]            \n",
      "                                                                 repeat_vector_1[15][0]           \n",
      "                                                                 bidirectional_5[0][0]            \n",
      "                                                                 repeat_vector_1[16][0]           \n",
      "                                                                 bidirectional_5[0][0]            \n",
      "                                                                 repeat_vector_1[17][0]           \n",
      "                                                                 bidirectional_5[0][0]            \n",
      "                                                                 repeat_vector_1[18][0]           \n",
      "                                                                 bidirectional_5[0][0]            \n",
      "                                                                 repeat_vector_1[19][0]           \n",
      "__________________________________________________________________________________________________\n",
      "dense_1 (Dense)                 (None, 30, 10)       1290        concatenate_1[10][0]             \n",
      "                                                                 concatenate_1[11][0]             \n",
      "                                                                 concatenate_1[12][0]             \n",
      "                                                                 concatenate_1[13][0]             \n",
      "                                                                 concatenate_1[14][0]             \n",
      "                                                                 concatenate_1[15][0]             \n",
      "                                                                 concatenate_1[16][0]             \n",
      "                                                                 concatenate_1[17][0]             \n",
      "                                                                 concatenate_1[18][0]             \n",
      "                                                                 concatenate_1[19][0]             \n",
      "__________________________________________________________________________________________________\n",
      "dense_2 (Dense)                 (None, 30, 1)        11          dense_1[10][0]                   \n",
      "                                                                 dense_1[11][0]                   \n",
      "                                                                 dense_1[12][0]                   \n",
      "                                                                 dense_1[13][0]                   \n",
      "                                                                 dense_1[14][0]                   \n",
      "                                                                 dense_1[15][0]                   \n",
      "                                                                 dense_1[16][0]                   \n",
      "                                                                 dense_1[17][0]                   \n",
      "                                                                 dense_1[18][0]                   \n",
      "                                                                 dense_1[19][0]                   \n",
      "__________________________________________________________________________________________________\n",
      "attention_weights (Activation)  (None, 30, 1)        0           dense_2[10][0]                   \n",
      "                                                                 dense_2[11][0]                   \n",
      "                                                                 dense_2[12][0]                   \n",
      "                                                                 dense_2[13][0]                   \n",
      "                                                                 dense_2[14][0]                   \n",
      "                                                                 dense_2[15][0]                   \n",
      "                                                                 dense_2[16][0]                   \n",
      "                                                                 dense_2[17][0]                   \n",
      "                                                                 dense_2[18][0]                   \n",
      "                                                                 dense_2[19][0]                   \n",
      "__________________________________________________________________________________________________\n",
      "dot_1 (Dot)                     (None, 1, 64)        0           attention_weights[10][0]         \n",
      "                                                                 bidirectional_5[0][0]            \n",
      "                                                                 attention_weights[11][0]         \n",
      "                                                                 bidirectional_5[0][0]            \n",
      "                                                                 attention_weights[12][0]         \n",
      "                                                                 bidirectional_5[0][0]            \n",
      "                                                                 attention_weights[13][0]         \n",
      "                                                                 bidirectional_5[0][0]            \n",
      "                                                                 attention_weights[14][0]         \n",
      "                                                                 bidirectional_5[0][0]            \n",
      "                                                                 attention_weights[15][0]         \n",
      "                                                                 bidirectional_5[0][0]            \n",
      "                                                                 attention_weights[16][0]         \n",
      "                                                                 bidirectional_5[0][0]            \n",
      "                                                                 attention_weights[17][0]         \n",
      "                                                                 bidirectional_5[0][0]            \n",
      "                                                                 attention_weights[18][0]         \n",
      "                                                                 bidirectional_5[0][0]            \n",
      "                                                                 attention_weights[19][0]         \n",
      "                                                                 bidirectional_5[0][0]            \n",
      "__________________________________________________________________________________________________\n",
      "lstm_3 (LSTM)                   (None, 64)           33024       dot_1[10][0]                     \n",
      "                                                                 dot_1[11][0]                     \n",
      "                                                                 dot_1[12][0]                     \n",
      "                                                                 dot_1[13][0]                     \n",
      "                                                                 dot_1[14][0]                     \n",
      "                                                                 dot_1[15][0]                     \n",
      "                                                                 dot_1[16][0]                     \n",
      "                                                                 dot_1[17][0]                     \n",
      "                                                                 dot_1[18][0]                     \n",
      "                                                                 dot_1[19][0]                     \n",
      "__________________________________________________________________________________________________\n",
      "dense_4 (Dense)                 (None, 11)           715         lstm_3[0][0]                     \n",
      "                                                                 lstm_3[1][0]                     \n",
      "                                                                 lstm_3[2][0]                     \n",
      "                                                                 lstm_3[3][0]                     \n",
      "                                                                 lstm_3[4][0]                     \n",
      "                                                                 lstm_3[5][0]                     \n",
      "                                                                 lstm_3[6][0]                     \n",
      "                                                                 lstm_3[7][0]                     \n",
      "                                                                 lstm_3[8][0]                     \n",
      "                                                                 lstm_3[9][0]                     \n",
      "==================================================================================================\n",
      "Total params: 52,960\n",
      "Trainable params: 52,960\n",
      "Non-trainable params: 0\n",
      "__________________________________________________________________________________________________\n"
     ]
    }
   ],
   "source": [
    "model.summary()"
   ]
  },
  {
   "cell_type": "markdown",
   "metadata": {},
   "source": [
    "**Expected Output**:\n",
    "\n",
    "Here is the summary you should see\n",
    "<table>\n",
    "    <tr>\n",
    "        <td>\n",
    "            **Total params:**\n",
    "        </td>\n",
    "        <td>\n",
    "         185,484\n",
    "        </td>\n",
    "    </tr>\n",
    "        <tr>\n",
    "        <td>\n",
    "            **Trainable params:**\n",
    "        </td>\n",
    "        <td>\n",
    "         185,484\n",
    "        </td>\n",
    "    </tr>\n",
    "            <tr>\n",
    "        <td>\n",
    "            **Non-trainable params:**\n",
    "        </td>\n",
    "        <td>\n",
    "         0\n",
    "        </td>\n",
    "    </tr>\n",
    "                    <tr>\n",
    "        <td>\n",
    "            **bidirectional_1's output shape **\n",
    "        </td>\n",
    "        <td>\n",
    "         (None, 30, 128)  \n",
    "        </td>\n",
    "    </tr>\n",
    "    <tr>\n",
    "        <td>\n",
    "            **repeat_vector_1's output shape **\n",
    "        </td>\n",
    "        <td>\n",
    "         (None, 30, 128)  \n",
    "        </td>\n",
    "    </tr>\n",
    "                <tr>\n",
    "        <td>\n",
    "            **concatenate_1's output shape **\n",
    "        </td>\n",
    "        <td>\n",
    "         (None, 30, 256) \n",
    "        </td>\n",
    "    </tr>\n",
    "            <tr>\n",
    "        <td>\n",
    "            **attention_weights's output shape **\n",
    "        </td>\n",
    "        <td>\n",
    "         (None, 30, 1)  \n",
    "        </td>\n",
    "    </tr>\n",
    "        <tr>\n",
    "        <td>\n",
    "            **dot_1's output shape **\n",
    "        </td>\n",
    "        <td>\n",
    "         (None, 1, 128) \n",
    "        </td>\n",
    "    </tr>\n",
    "           <tr>\n",
    "        <td>\n",
    "            **dense_2's output shape **\n",
    "        </td>\n",
    "        <td>\n",
    "         (None, 11) \n",
    "        </td>\n",
    "    </tr>\n",
    "</table>\n"
   ]
  },
  {
   "cell_type": "markdown",
   "metadata": {},
   "source": [
    "As usual, after creating your model in Keras, you need to compile it and define what loss, optimizer and metrics your are want to use. Compile your model using `categorical_crossentropy` loss, a custom [Adam](https://keras.io/optimizers/#adam) [optimizer](https://keras.io/optimizers/#usage-of-optimizers) (`learning rate = 0.005`, $\\beta_1 = 0.9$, $\\beta_2 = 0.999$, `decay = 0.01`)  and `['accuracy']` metrics:"
   ]
  },
  {
   "cell_type": "code",
   "execution_count": 43,
   "metadata": {},
   "outputs": [],
   "source": [
    "### START CODE HERE ### (≈2 lines)\n",
    "opt = Adam(lr=0.005, beta_1=0.9, beta_2=0.999, decay=0.01)\n",
    "model.compile(optimizer = opt, loss = \"categorical_crossentropy\", metrics = ['accuracy'])\n",
    "### END CODE HERE ###"
   ]
  },
  {
   "cell_type": "markdown",
   "metadata": {},
   "source": [
    "The last step is to define all your inputs and outputs to fit the model:\n",
    "- You already have X of shape $(m = 10000, T_x = 30)$ containing the training examples.\n",
    "- You need to create `s0` and `c0` to initialize your `post_activation_LSTM_cell` with 0s.\n",
    "- Given the `model()` you coded, you need the \"outputs\" to be a list of 11 elements of shape (m, T_y). So that: `outputs[i][0], ..., outputs[i][Ty]` represent the true labels (characters) corresponding to the $i^{th}$ training example (`X[i]`). More generally, `outputs[i][j]` is the true label of the $j^{th}$ character in the $i^{th}$ training example."
   ]
  },
  {
   "cell_type": "code",
   "execution_count": 44,
   "metadata": {},
   "outputs": [
    {
     "name": "stdout",
     "output_type": "stream",
     "text": [
      "10\n"
     ]
    }
   ],
   "source": [
    "s0 = np.zeros((m, n_s))\n",
    "c0 = np.zeros((m, n_s))\n",
    "outputs = list(Yoh.swapaxes(0,1))\n",
    "print(len(outputs))\n",
    "# print(outputs)"
   ]
  },
  {
   "cell_type": "markdown",
   "metadata": {},
   "source": [
    "Let's now fit the model and run it for one epoch."
   ]
  },
  {
   "cell_type": "code",
   "execution_count": 45,
   "metadata": {},
   "outputs": [
    {
     "name": "stdout",
     "output_type": "stream",
     "text": [
      "(10000, 30, 37)\n"
     ]
    }
   ],
   "source": [
    "print(Xoh.shape)"
   ]
  },
  {
   "cell_type": "code",
   "execution_count": 46,
   "metadata": {},
   "outputs": [
    {
     "name": "stdout",
     "output_type": "stream",
     "text": [
      "Epoch 1/1\n"
     ]
    },
    {
     "name": "stdout",
     "output_type": "stream",
     "text": [
      " 1600/10000 [===>..........................] - ETA: 13:33 - loss: 24.0243 - dense_4_loss_1: 2.4000 - dense_4_loss_2: 2.4131 - dense_4_loss_3: 2.4038 - dense_4_loss_4: 2.3997 - dense_4_loss_5: 2.3932 - dense_4_loss_6: 2.4156 - dense_4_loss_7: 2.3993 - dense_4_loss_8: 2.3932 - dense_4_loss_9: 2.4070 - dense_4_loss_10: 2.3995 - dense_4_acc_1: 0.2800 - dense_4_acc_2: 0.0000e+00 - dense_4_acc_3: 0.0000e+00 - dense_4_acc_4: 0.1300 - dense_4_acc_5: 0.0400 - dense_4_acc_6: 0.0000e+00 - dense_4_acc_7: 0.1300 - dense_4_acc_8: 0.0400 - dense_4_acc_9: 0.2100 - dense_4_acc_10: 0.060 - ETA: 6:47 - loss: 23.9708 - dense_4_loss_1: 2.3962 - dense_4_loss_2: 2.4035 - dense_4_loss_3: 2.4009 - dense_4_loss_4: 2.3995 - dense_4_loss_5: 2.3848 - dense_4_loss_6: 2.4032 - dense_4_loss_7: 2.3984 - dense_4_loss_8: 2.3848 - dense_4_loss_9: 2.3999 - dense_4_loss_10: 2.3997 - dense_4_acc_1: 0.1400 - dense_4_acc_2: 0.0000e+00 - dense_4_acc_3: 0.0000e+00 - dense_4_acc_4: 0.0650 - dense_4_acc_5: 0.5200 - dense_4_acc_6: 0.0000e+00 - dense_4_acc_7: 0.0650 - dense_4_acc_8: 0.5200 - dense_4_acc_9: 0.1050 - dense_4_acc_10: 0.030 - ETA: 4:32 - loss: 23.9234 - dense_4_loss_1: 2.3921 - dense_4_loss_2: 2.3946 - dense_4_loss_3: 2.3983 - dense_4_loss_4: 2.4006 - dense_4_loss_5: 2.3756 - dense_4_loss_6: 2.3919 - dense_4_loss_7: 2.3991 - dense_4_loss_8: 2.3756 - dense_4_loss_9: 2.3939 - dense_4_loss_10: 2.4016 - dense_4_acc_1: 0.0933 - dense_4_acc_2: 0.0100 - dense_4_acc_3: 0.0067 - dense_4_acc_4: 0.0467 - dense_4_acc_5: 0.6667 - dense_4_acc_6: 0.0067 - dense_4_acc_7: 0.0467 - dense_4_acc_8: 0.6667 - dense_4_acc_9: 0.0700 - dense_4_acc_10: 0.0200           - ETA: 3:25 - loss: 23.8671 - dense_4_loss_1: 2.3872 - dense_4_loss_2: 2.3857 - dense_4_loss_3: 2.3957 - dense_4_loss_4: 2.4017 - dense_4_loss_5: 2.3644 - dense_4_loss_6: 2.3804 - dense_4_loss_7: 2.3989 - dense_4_loss_8: 2.3644 - dense_4_loss_9: 2.3870 - dense_4_loss_10: 2.4017 - dense_4_acc_1: 0.0700 - dense_4_acc_2: 0.0200 - dense_4_acc_3: 0.0150 - dense_4_acc_4: 0.0450 - dense_4_acc_5: 0.7375 - dense_4_acc_6: 0.0125 - dense_4_acc_7: 0.0350 - dense_4_acc_8: 0.7375 - dense_4_acc_9: 0.0525 - dense_4_acc_10: 0.02 - ETA: 2:44 - loss: 23.8084 - dense_4_loss_1: 2.3812 - dense_4_loss_2: 2.3770 - dense_4_loss_3: 2.3972 - dense_4_loss_4: 2.4022 - dense_4_loss_5: 2.3502 - dense_4_loss_6: 2.3675 - dense_4_loss_7: 2.3994 - dense_4_loss_8: 2.3502 - dense_4_loss_9: 2.3801 - dense_4_loss_10: 2.4032 - dense_4_acc_1: 0.0560 - dense_4_acc_2: 0.0220 - dense_4_acc_3: 0.0160 - dense_4_acc_4: 0.0420 - dense_4_acc_5: 0.7840 - dense_4_acc_6: 0.0140 - dense_4_acc_7: 0.0300 - dense_4_acc_8: 0.7840 - dense_4_acc_9: 0.0420 - dense_4_acc_10: 0.01 - ETA: 2:17 - loss: 23.7297 - dense_4_loss_1: 2.3743 - dense_4_loss_2: 2.3653 - dense_4_loss_3: 2.3943 - dense_4_loss_4: 2.4031 - dense_4_loss_5: 2.3319 - dense_4_loss_6: 2.3521 - dense_4_loss_7: 2.3998 - dense_4_loss_8: 2.3319 - dense_4_loss_9: 2.3708 - dense_4_loss_10: 2.4062 - dense_4_acc_1: 0.0467 - dense_4_acc_2: 0.0217 - dense_4_acc_3: 0.0150 - dense_4_acc_4: 0.0383 - dense_4_acc_5: 0.8167 - dense_4_acc_6: 0.0150 - dense_4_acc_7: 0.0250 - dense_4_acc_8: 0.8167 - dense_4_acc_9: 0.0350 - dense_4_acc_10: 0.01 - ETA: 1:57 - loss: 23.6365 - dense_4_loss_1: 2.3658 - dense_4_loss_2: 2.3531 - dense_4_loss_3: 2.3933 - dense_4_loss_4: 2.4073 - dense_4_loss_5: 2.3093 - dense_4_loss_6: 2.3329 - dense_4_loss_7: 2.4013 - dense_4_loss_8: 2.3093 - dense_4_loss_9: 2.3599 - dense_4_loss_10: 2.4046 - dense_4_acc_1: 0.0400 - dense_4_acc_2: 0.0186 - dense_4_acc_3: 0.0129 - dense_4_acc_4: 0.0329 - dense_4_acc_5: 0.8429 - dense_4_acc_6: 0.0129 - dense_4_acc_7: 0.0214 - dense_4_acc_8: 0.8429 - dense_4_acc_9: 0.0300 - dense_4_acc_10: 0.01 - ETA: 1:43 - loss: 23.5322 - dense_4_loss_1: 2.3553 - dense_4_loss_2: 2.3361 - dense_4_loss_3: 2.3937 - dense_4_loss_4: 2.4131 - dense_4_loss_5: 2.2794 - dense_4_loss_6: 2.3079 - dense_4_loss_7: 2.4081 - dense_4_loss_8: 2.2794 - dense_4_loss_9: 2.3442 - dense_4_loss_10: 2.4152 - dense_4_acc_1: 0.0350 - dense_4_acc_2: 0.0162 - dense_4_acc_3: 0.0112 - dense_4_acc_4: 0.0287 - dense_4_acc_5: 0.8625 - dense_4_acc_6: 0.0112 - dense_4_acc_7: 0.0187 - dense_4_acc_8: 0.8625 - dense_4_acc_9: 0.0262 - dense_4_acc_10: 0.01 - ETA: 1:31 - loss: 23.4020 - dense_4_loss_1: 2.3425 - dense_4_loss_2: 2.3150 - dense_4_loss_3: 2.3971 - dense_4_loss_4: 2.4252 - dense_4_loss_5: 2.2401 - dense_4_loss_6: 2.2776 - dense_4_loss_7: 2.4158 - dense_4_loss_8: 2.2401 - dense_4_loss_9: 2.3274 - dense_4_loss_10: 2.4211 - dense_4_acc_1: 0.0311 - dense_4_acc_2: 0.0144 - dense_4_acc_3: 0.0100 - dense_4_acc_4: 0.0256 - dense_4_acc_5: 0.8778 - dense_4_acc_6: 0.0100 - dense_4_acc_7: 0.0167 - dense_4_acc_8: 0.8778 - dense_4_acc_9: 0.0233 - dense_4_acc_10: 0.01 - ETA: 1:22 - loss: 23.2558 - dense_4_loss_1: 2.3273 - dense_4_loss_2: 2.2934 - dense_4_loss_3: 2.4063 - dense_4_loss_4: 2.4361 - dense_4_loss_5: 2.1895 - dense_4_loss_6: 2.2389 - dense_4_loss_7: 2.4240 - dense_4_loss_8: 2.1895 - dense_4_loss_9: 2.3101 - dense_4_loss_10: 2.4406 - dense_4_acc_1: 0.0280 - dense_4_acc_2: 0.0130 - dense_4_acc_3: 0.0090 - dense_4_acc_4: 0.0230 - dense_4_acc_5: 0.8900 - dense_4_acc_6: 0.0090 - dense_4_acc_7: 0.0150 - dense_4_acc_8: 0.8900 - dense_4_acc_9: 0.0210 - dense_4_acc_10: 0.01 - ETA: 1:15 - loss: 23.1100 - dense_4_loss_1: 2.3135 - dense_4_loss_2: 2.2607 - dense_4_loss_3: 2.4142 - dense_4_loss_4: 2.4696 - dense_4_loss_5: 2.1273 - dense_4_loss_6: 2.1907 - dense_4_loss_7: 2.4542 - dense_4_loss_8: 2.1273 - dense_4_loss_9: 2.2902 - dense_4_loss_10: 2.4624 - dense_4_acc_1: 0.0255 - dense_4_acc_2: 0.0118 - dense_4_acc_3: 0.0082 - dense_4_acc_4: 0.0209 - dense_4_acc_5: 0.9000 - dense_4_acc_6: 0.0082 - dense_4_acc_7: 0.0136 - dense_4_acc_8: 0.9000 - dense_4_acc_9: 0.0191 - dense_4_acc_10: 0.01 - ETA: 1:09 - loss: 23.0160 - dense_4_loss_1: 2.2981 - dense_4_loss_2: 2.2355 - dense_4_loss_3: 2.4339 - dense_4_loss_4: 2.5228 - dense_4_loss_5: 2.0621 - dense_4_loss_6: 2.1405 - dense_4_loss_7: 2.4866 - dense_4_loss_8: 2.0621 - dense_4_loss_9: 2.2725 - dense_4_loss_10: 2.5019 - dense_4_acc_1: 0.0233 - dense_4_acc_2: 0.0108 - dense_4_acc_3: 0.0075 - dense_4_acc_4: 0.0192 - dense_4_acc_5: 0.9083 - dense_4_acc_6: 0.0075 - dense_4_acc_7: 0.0125 - dense_4_acc_8: 0.9083 - dense_4_acc_9: 0.0175 - dense_4_acc_10: 0.00 - ETA: 1:03 - loss: 22.9010 - dense_4_loss_1: 2.2783 - dense_4_loss_2: 2.2109 - dense_4_loss_3: 2.4448 - dense_4_loss_4: 2.5479 - dense_4_loss_5: 2.0094 - dense_4_loss_6: 2.0965 - dense_4_loss_7: 2.5211 - dense_4_loss_8: 2.0094 - dense_4_loss_9: 2.2477 - dense_4_loss_10: 2.5350 - dense_4_acc_1: 0.0215 - dense_4_acc_2: 0.0100 - dense_4_acc_3: 0.0069 - dense_4_acc_4: 0.0177 - dense_4_acc_5: 0.9154 - dense_4_acc_6: 0.0069 - dense_4_acc_7: 0.0115 - dense_4_acc_8: 0.9154 - dense_4_acc_9: 0.0162 - dense_4_acc_10: 0.00 - ETA: 59s - loss: 22.8087 - dense_4_loss_1: 2.2539 - dense_4_loss_2: 2.1882 - dense_4_loss_3: 2.4544 - dense_4_loss_4: 2.5772 - dense_4_loss_5: 1.9708 - dense_4_loss_6: 2.0587 - dense_4_loss_7: 2.5345 - dense_4_loss_8: 1.9708 - dense_4_loss_9: 2.2250 - dense_4_loss_10: 2.5750 - dense_4_acc_1: 0.0200 - dense_4_acc_2: 0.0093 - dense_4_acc_3: 0.0064 - dense_4_acc_4: 0.0164 - dense_4_acc_5: 0.9214 - dense_4_acc_6: 0.0064 - dense_4_acc_7: 0.0107 - dense_4_acc_8: 0.9214 - dense_4_acc_9: 0.0150 - dense_4_acc_10: 0.0079 - ETA: 55s - loss: 22.7383 - dense_4_loss_1: 2.2306 - dense_4_loss_2: 2.1649 - dense_4_loss_3: 2.4541 - dense_4_loss_4: 2.6156 - dense_4_loss_5: 1.9447 - dense_4_loss_6: 2.0283 - dense_4_loss_7: 2.5506 - dense_4_loss_8: 1.9447 - dense_4_loss_9: 2.2008 - dense_4_loss_10: 2.6040 - dense_4_acc_1: 0.0187 - dense_4_acc_2: 0.0247 - dense_4_acc_3: 0.0167 - dense_4_acc_4: 0.0167 - dense_4_acc_5: 0.9073 - dense_4_acc_6: 0.0227 - dense_4_acc_7: 0.0107 - dense_4_acc_8: 0.9073 - dense_4_acc_9: 0.0200 - dense_4_acc_10: 0.009 - ETA: 51s - loss: 22.6637 - dense_4_loss_1: 2.2074 - dense_4_loss_2: 2.1469 - dense_4_loss_3: 2.4506 - dense_4_loss_4: 2.6345 - dense_4_loss_5: 1.9278 - dense_4_loss_6: 2.0040 - dense_4_loss_7: 2.5660 - dense_4_loss_8: 1.9278 - dense_4_loss_9: 2.1880 - dense_4_loss_10: 2.6107 - dense_4_acc_1: 0.0519 - dense_4_acc_2: 0.0231 - dense_4_acc_3: 0.0294 - dense_4_acc_4: 0.0200 - dense_4_acc_5: 0.8506 - dense_4_acc_6: 0.0369 - dense_4_acc_7: 0.0187 - dense_4_acc_8: 0.8506 - dense_4_acc_9: 0.0387 - dense_4_acc_10: 0.018 3200/10000 [========>.....................] - ETA: 48s - loss: 22.6041 - dense_4_loss_1: 2.1814 - dense_4_loss_2: 2.1362 - dense_4_loss_3: 2.4500 - dense_4_loss_4: 2.6520 - dense_4_loss_5: 1.9168 - dense_4_loss_6: 1.9849 - dense_4_loss_7: 2.5754 - dense_4_loss_8: 1.9168 - dense_4_loss_9: 2.1713 - dense_4_loss_10: 2.6194 - dense_4_acc_1: 0.0882 - dense_4_acc_2: 0.0218 - dense_4_acc_3: 0.0400 - dense_4_acc_4: 0.0259 - dense_4_acc_5: 0.8006 - dense_4_acc_6: 0.0500 - dense_4_acc_7: 0.0241 - dense_4_acc_8: 0.8006 - dense_4_acc_9: 0.0518 - dense_4_acc_10: 0.022 - ETA: 45s - loss: 22.5343 - dense_4_loss_1: 2.1608 - dense_4_loss_2: 2.1276 - dense_4_loss_3: 2.4416 - dense_4_loss_4: 2.6589 - dense_4_loss_5: 1.9093 - dense_4_loss_6: 1.9703 - dense_4_loss_7: 2.5761 - dense_4_loss_8: 1.9093 - dense_4_loss_9: 2.1588 - dense_4_loss_10: 2.6216 - dense_4_acc_1: 0.1167 - dense_4_acc_2: 0.0206 - dense_4_acc_3: 0.0500 - dense_4_acc_4: 0.0300 - dense_4_acc_5: 0.7561 - dense_4_acc_6: 0.0622 - dense_4_acc_7: 0.0317 - dense_4_acc_8: 0.7561 - dense_4_acc_9: 0.0628 - dense_4_acc_10: 0.029 - ETA: 43s - loss: 22.4832 - dense_4_loss_1: 2.1420 - dense_4_loss_2: 2.1222 - dense_4_loss_3: 2.4376 - dense_4_loss_4: 2.6609 - dense_4_loss_5: 1.9034 - dense_4_loss_6: 1.9586 - dense_4_loss_7: 2.5791 - dense_4_loss_8: 1.9034 - dense_4_loss_9: 2.1431 - dense_4_loss_10: 2.6330 - dense_4_acc_1: 0.1437 - dense_4_acc_2: 0.0195 - dense_4_acc_3: 0.0568 - dense_4_acc_4: 0.0342 - dense_4_acc_5: 0.7163 - dense_4_acc_6: 0.0753 - dense_4_acc_7: 0.0384 - dense_4_acc_8: 0.7163 - dense_4_acc_9: 0.0805 - dense_4_acc_10: 0.031 - ETA: 41s - loss: 22.4361 - dense_4_loss_1: 2.1267 - dense_4_loss_2: 2.1183 - dense_4_loss_3: 2.4291 - dense_4_loss_4: 2.6683 - dense_4_loss_5: 1.8982 - dense_4_loss_6: 1.9502 - dense_4_loss_7: 2.5775 - dense_4_loss_8: 1.8982 - dense_4_loss_9: 2.1350 - dense_4_loss_10: 2.6347 - dense_4_acc_1: 0.1665 - dense_4_acc_2: 0.0185 - dense_4_acc_3: 0.0590 - dense_4_acc_4: 0.0365 - dense_4_acc_5: 0.6805 - dense_4_acc_6: 0.0830 - dense_4_acc_7: 0.0440 - dense_4_acc_8: 0.6805 - dense_4_acc_9: 0.0890 - dense_4_acc_10: 0.037 - ETA: 39s - loss: 22.3908 - dense_4_loss_1: 2.1134 - dense_4_loss_2: 2.1160 - dense_4_loss_3: 2.4230 - dense_4_loss_4: 2.6661 - dense_4_loss_5: 1.8927 - dense_4_loss_6: 1.9441 - dense_4_loss_7: 2.5770 - dense_4_loss_8: 1.8927 - dense_4_loss_9: 2.1251 - dense_4_loss_10: 2.6406 - dense_4_acc_1: 0.1876 - dense_4_acc_2: 0.0176 - dense_4_acc_3: 0.0638 - dense_4_acc_4: 0.0405 - dense_4_acc_5: 0.6481 - dense_4_acc_6: 0.0867 - dense_4_acc_7: 0.0505 - dense_4_acc_8: 0.6481 - dense_4_acc_9: 0.1019 - dense_4_acc_10: 0.040 - ETA: 37s - loss: 22.3463 - dense_4_loss_1: 2.1032 - dense_4_loss_2: 2.1138 - dense_4_loss_3: 2.4168 - dense_4_loss_4: 2.6639 - dense_4_loss_5: 1.8870 - dense_4_loss_6: 1.9384 - dense_4_loss_7: 2.5726 - dense_4_loss_8: 1.8870 - dense_4_loss_9: 2.1164 - dense_4_loss_10: 2.6472 - dense_4_acc_1: 0.2055 - dense_4_acc_2: 0.0168 - dense_4_acc_3: 0.0700 - dense_4_acc_4: 0.0441 - dense_4_acc_5: 0.6186 - dense_4_acc_6: 0.0914 - dense_4_acc_7: 0.0591 - dense_4_acc_8: 0.6186 - dense_4_acc_9: 0.1100 - dense_4_acc_10: 0.045 - ETA: 35s - loss: 22.3169 - dense_4_loss_1: 2.0920 - dense_4_loss_2: 2.1143 - dense_4_loss_3: 2.4159 - dense_4_loss_4: 2.6679 - dense_4_loss_5: 1.8800 - dense_4_loss_6: 1.9322 - dense_4_loss_7: 2.5761 - dense_4_loss_8: 1.8800 - dense_4_loss_9: 2.1115 - dense_4_loss_10: 2.6470 - dense_4_acc_1: 0.2270 - dense_4_acc_2: 0.0161 - dense_4_acc_3: 0.0739 - dense_4_acc_4: 0.0457 - dense_4_acc_5: 0.5917 - dense_4_acc_6: 0.0974 - dense_4_acc_7: 0.0630 - dense_4_acc_8: 0.5917 - dense_4_acc_9: 0.1183 - dense_4_acc_10: 0.050 - ETA: 33s - loss: 22.2845 - dense_4_loss_1: 2.0836 - dense_4_loss_2: 2.1140 - dense_4_loss_3: 2.4120 - dense_4_loss_4: 2.6715 - dense_4_loss_5: 1.8720 - dense_4_loss_6: 1.9258 - dense_4_loss_7: 2.5787 - dense_4_loss_8: 1.8720 - dense_4_loss_9: 2.1038 - dense_4_loss_10: 2.6511 - dense_4_acc_1: 0.2175 - dense_4_acc_2: 0.0154 - dense_4_acc_3: 0.0708 - dense_4_acc_4: 0.0437 - dense_4_acc_5: 0.6087 - dense_4_acc_6: 0.0933 - dense_4_acc_7: 0.0604 - dense_4_acc_8: 0.6087 - dense_4_acc_9: 0.1133 - dense_4_acc_10: 0.048 - ETA: 32s - loss: 22.2523 - dense_4_loss_1: 2.0768 - dense_4_loss_2: 2.1132 - dense_4_loss_3: 2.4078 - dense_4_loss_4: 2.6715 - dense_4_loss_5: 1.8632 - dense_4_loss_6: 1.9190 - dense_4_loss_7: 2.5818 - dense_4_loss_8: 1.8632 - dense_4_loss_9: 2.0979 - dense_4_loss_10: 2.6579 - dense_4_acc_1: 0.2088 - dense_4_acc_2: 0.0148 - dense_4_acc_3: 0.0680 - dense_4_acc_4: 0.0420 - dense_4_acc_5: 0.6244 - dense_4_acc_6: 0.0896 - dense_4_acc_7: 0.0580 - dense_4_acc_8: 0.6244 - dense_4_acc_9: 0.1088 - dense_4_acc_10: 0.046 - ETA: 31s - loss: 22.2110 - dense_4_loss_1: 2.0719 - dense_4_loss_2: 2.1113 - dense_4_loss_3: 2.4022 - dense_4_loss_4: 2.6702 - dense_4_loss_5: 1.8534 - dense_4_loss_6: 1.9118 - dense_4_loss_7: 2.5805 - dense_4_loss_8: 1.8534 - dense_4_loss_9: 2.0943 - dense_4_loss_10: 2.6619 - dense_4_acc_1: 0.2008 - dense_4_acc_2: 0.0142 - dense_4_acc_3: 0.0654 - dense_4_acc_4: 0.0404 - dense_4_acc_5: 0.6388 - dense_4_acc_6: 0.0862 - dense_4_acc_7: 0.0558 - dense_4_acc_8: 0.6388 - dense_4_acc_9: 0.1046 - dense_4_acc_10: 0.045 - ETA: 29s - loss: 22.1757 - dense_4_loss_1: 2.0678 - dense_4_loss_2: 2.1094 - dense_4_loss_3: 2.3971 - dense_4_loss_4: 2.6737 - dense_4_loss_5: 1.8433 - dense_4_loss_6: 1.9043 - dense_4_loss_7: 2.5843 - dense_4_loss_8: 1.8433 - dense_4_loss_9: 2.0864 - dense_4_loss_10: 2.6661 - dense_4_acc_1: 0.1933 - dense_4_acc_2: 0.0137 - dense_4_acc_3: 0.0630 - dense_4_acc_4: 0.0389 - dense_4_acc_5: 0.6522 - dense_4_acc_6: 0.0830 - dense_4_acc_7: 0.0537 - dense_4_acc_8: 0.6522 - dense_4_acc_9: 0.1007 - dense_4_acc_10: 0.043 - ETA: 28s - loss: 22.1536 - dense_4_loss_1: 2.0623 - dense_4_loss_2: 2.1105 - dense_4_loss_3: 2.3985 - dense_4_loss_4: 2.6796 - dense_4_loss_5: 1.8329 - dense_4_loss_6: 1.8962 - dense_4_loss_7: 2.5861 - dense_4_loss_8: 1.8329 - dense_4_loss_9: 2.0823 - dense_4_loss_10: 2.6723 - dense_4_acc_1: 0.1864 - dense_4_acc_2: 0.0132 - dense_4_acc_3: 0.0607 - dense_4_acc_4: 0.0375 - dense_4_acc_5: 0.6646 - dense_4_acc_6: 0.0800 - dense_4_acc_7: 0.0518 - dense_4_acc_8: 0.6646 - dense_4_acc_9: 0.0971 - dense_4_acc_10: 0.041 - ETA: 27s - loss: 22.1130 - dense_4_loss_1: 2.0607 - dense_4_loss_2: 2.1063 - dense_4_loss_3: 2.3932 - dense_4_loss_4: 2.6782 - dense_4_loss_5: 1.8224 - dense_4_loss_6: 1.8877 - dense_4_loss_7: 2.5890 - dense_4_loss_8: 1.8224 - dense_4_loss_9: 2.0817 - dense_4_loss_10: 2.6713 - dense_4_acc_1: 0.1800 - dense_4_acc_2: 0.0128 - dense_4_acc_3: 0.0586 - dense_4_acc_4: 0.0362 - dense_4_acc_5: 0.6762 - dense_4_acc_6: 0.0772 - dense_4_acc_7: 0.0500 - dense_4_acc_8: 0.6762 - dense_4_acc_9: 0.0938 - dense_4_acc_10: 0.040 - ETA: 26s - loss: 22.0886 - dense_4_loss_1: 2.0573 - dense_4_loss_2: 2.1053 - dense_4_loss_3: 2.3925 - dense_4_loss_4: 2.6879 - dense_4_loss_5: 1.8122 - dense_4_loss_6: 1.8799 - dense_4_loss_7: 2.5875 - dense_4_loss_8: 1.8122 - dense_4_loss_9: 2.0778 - dense_4_loss_10: 2.6759 - dense_4_acc_1: 0.1740 - dense_4_acc_2: 0.0123 - dense_4_acc_3: 0.0567 - dense_4_acc_4: 0.0350 - dense_4_acc_5: 0.6870 - dense_4_acc_6: 0.0747 - dense_4_acc_7: 0.0483 - dense_4_acc_8: 0.6870 - dense_4_acc_9: 0.0907 - dense_4_acc_10: 0.039 - ETA: 25s - loss: 22.0702 - dense_4_loss_1: 2.0545 - dense_4_loss_2: 2.1032 - dense_4_loss_3: 2.3909 - dense_4_loss_4: 2.6983 - dense_4_loss_5: 1.8026 - dense_4_loss_6: 1.8712 - dense_4_loss_7: 2.5928 - dense_4_loss_8: 1.8026 - dense_4_loss_9: 2.0730 - dense_4_loss_10: 2.6810 - dense_4_acc_1: 0.1684 - dense_4_acc_2: 0.0119 - dense_4_acc_3: 0.0548 - dense_4_acc_4: 0.0339 - dense_4_acc_5: 0.6971 - dense_4_acc_6: 0.0723 - dense_4_acc_7: 0.0468 - dense_4_acc_8: 0.6971 - dense_4_acc_9: 0.0877 - dense_4_acc_10: 0.037 - ETA: 24s - loss: 22.0452 - dense_4_loss_1: 2.0525 - dense_4_loss_2: 2.0996 - dense_4_loss_3: 2.3875 - dense_4_loss_4: 2.7012 - dense_4_loss_5: 1.7939 - dense_4_loss_6: 1.8628 - dense_4_loss_7: 2.5989 - dense_4_loss_8: 1.7939 - dense_4_loss_9: 2.0693 - dense_4_loss_10: 2.6856 - dense_4_acc_1: 0.1631 - dense_4_acc_2: 0.0116 - dense_4_acc_3: 0.0531 - dense_4_acc_4: 0.0328 - dense_4_acc_5: 0.7066 - dense_4_acc_6: 0.0700 - dense_4_acc_7: 0.0453 - dense_4_acc_8: 0.7066 - dense_4_acc_9: 0.0850 - dense_4_acc_10: 0.0366"
     ]
    },
    {
     "name": "stdout",
     "output_type": "stream",
     "text": [
      " 4800/10000 [=============>................] - ETA: 23s - loss: 22.0263 - dense_4_loss_1: 2.0497 - dense_4_loss_2: 2.0970 - dense_4_loss_3: 2.3883 - dense_4_loss_4: 2.7022 - dense_4_loss_5: 1.7862 - dense_4_loss_6: 1.8548 - dense_4_loss_7: 2.6060 - dense_4_loss_8: 1.7862 - dense_4_loss_9: 2.0648 - dense_4_loss_10: 2.6912 - dense_4_acc_1: 0.1582 - dense_4_acc_2: 0.0215 - dense_4_acc_3: 0.0570 - dense_4_acc_4: 0.0355 - dense_4_acc_5: 0.6900 - dense_4_acc_6: 0.0879 - dense_4_acc_7: 0.0458 - dense_4_acc_8: 0.6900 - dense_4_acc_9: 0.0888 - dense_4_acc_10: 0.037 - ETA: 22s - loss: 22.0026 - dense_4_loss_1: 2.0468 - dense_4_loss_2: 2.0943 - dense_4_loss_3: 2.3879 - dense_4_loss_4: 2.7015 - dense_4_loss_5: 1.7795 - dense_4_loss_6: 1.8476 - dense_4_loss_7: 2.6087 - dense_4_loss_8: 1.7795 - dense_4_loss_9: 2.0603 - dense_4_loss_10: 2.6966 - dense_4_acc_1: 0.1535 - dense_4_acc_2: 0.0312 - dense_4_acc_3: 0.0597 - dense_4_acc_4: 0.0376 - dense_4_acc_5: 0.6697 - dense_4_acc_6: 0.1068 - dense_4_acc_7: 0.0465 - dense_4_acc_8: 0.6697 - dense_4_acc_9: 0.0938 - dense_4_acc_10: 0.038 - ETA: 22s - loss: 21.9852 - dense_4_loss_1: 2.0440 - dense_4_loss_2: 2.0908 - dense_4_loss_3: 2.3879 - dense_4_loss_4: 2.7037 - dense_4_loss_5: 1.7738 - dense_4_loss_6: 1.8410 - dense_4_loss_7: 2.6129 - dense_4_loss_8: 1.7738 - dense_4_loss_9: 2.0586 - dense_4_loss_10: 2.6987 - dense_4_acc_1: 0.1491 - dense_4_acc_2: 0.0409 - dense_4_acc_3: 0.0643 - dense_4_acc_4: 0.0394 - dense_4_acc_5: 0.6506 - dense_4_acc_6: 0.1251 - dense_4_acc_7: 0.0480 - dense_4_acc_8: 0.6506 - dense_4_acc_9: 0.0991 - dense_4_acc_10: 0.041 - ETA: 21s - loss: 21.9696 - dense_4_loss_1: 2.0408 - dense_4_loss_2: 2.0876 - dense_4_loss_3: 2.3878 - dense_4_loss_4: 2.7099 - dense_4_loss_5: 1.7690 - dense_4_loss_6: 1.8352 - dense_4_loss_7: 2.6149 - dense_4_loss_8: 1.7690 - dense_4_loss_9: 2.0538 - dense_4_loss_10: 2.7015 - dense_4_acc_1: 0.1450 - dense_4_acc_2: 0.0494 - dense_4_acc_3: 0.0681 - dense_4_acc_4: 0.0408 - dense_4_acc_5: 0.6325 - dense_4_acc_6: 0.1417 - dense_4_acc_7: 0.0486 - dense_4_acc_8: 0.6325 - dense_4_acc_9: 0.1036 - dense_4_acc_10: 0.042 - ETA: 20s - loss: 21.9584 - dense_4_loss_1: 2.0371 - dense_4_loss_2: 2.0850 - dense_4_loss_3: 2.3899 - dense_4_loss_4: 2.7136 - dense_4_loss_5: 1.7650 - dense_4_loss_6: 1.8299 - dense_4_loss_7: 2.6170 - dense_4_loss_8: 1.7650 - dense_4_loss_9: 2.0511 - dense_4_loss_10: 2.7049 - dense_4_acc_1: 0.1411 - dense_4_acc_2: 0.0565 - dense_4_acc_3: 0.0695 - dense_4_acc_4: 0.0427 - dense_4_acc_5: 0.6154 - dense_4_acc_6: 0.1597 - dense_4_acc_7: 0.0500 - dense_4_acc_8: 0.6154 - dense_4_acc_9: 0.1095 - dense_4_acc_10: 0.043 - ETA: 19s - loss: 21.9400 - dense_4_loss_1: 2.0348 - dense_4_loss_2: 2.0808 - dense_4_loss_3: 2.3856 - dense_4_loss_4: 2.7139 - dense_4_loss_5: 1.7616 - dense_4_loss_6: 1.8253 - dense_4_loss_7: 2.6224 - dense_4_loss_8: 1.7616 - dense_4_loss_9: 2.0495 - dense_4_loss_10: 2.7044 - dense_4_acc_1: 0.1374 - dense_4_acc_2: 0.0642 - dense_4_acc_3: 0.0734 - dense_4_acc_4: 0.0453 - dense_4_acc_5: 0.6129 - dense_4_acc_6: 0.1668 - dense_4_acc_7: 0.0495 - dense_4_acc_8: 0.6129 - dense_4_acc_9: 0.1097 - dense_4_acc_10: 0.044 - ETA: 19s - loss: 21.9255 - dense_4_loss_1: 2.0316 - dense_4_loss_2: 2.0777 - dense_4_loss_3: 2.3855 - dense_4_loss_4: 2.7141 - dense_4_loss_5: 1.7588 - dense_4_loss_6: 1.8215 - dense_4_loss_7: 2.6235 - dense_4_loss_8: 1.7588 - dense_4_loss_9: 2.0468 - dense_4_loss_10: 2.7071 - dense_4_acc_1: 0.1338 - dense_4_acc_2: 0.0659 - dense_4_acc_3: 0.0744 - dense_4_acc_4: 0.0449 - dense_4_acc_5: 0.6195 - dense_4_acc_6: 0.1656 - dense_4_acc_7: 0.0482 - dense_4_acc_8: 0.6195 - dense_4_acc_9: 0.1074 - dense_4_acc_10: 0.044 - ETA: 18s - loss: 21.9122 - dense_4_loss_1: 2.0286 - dense_4_loss_2: 2.0747 - dense_4_loss_3: 2.3849 - dense_4_loss_4: 2.7164 - dense_4_loss_5: 1.7564 - dense_4_loss_6: 1.8182 - dense_4_loss_7: 2.6257 - dense_4_loss_8: 1.7564 - dense_4_loss_9: 2.0451 - dense_4_loss_10: 2.7058 - dense_4_acc_1: 0.1305 - dense_4_acc_2: 0.0642 - dense_4_acc_3: 0.0725 - dense_4_acc_4: 0.0437 - dense_4_acc_5: 0.6290 - dense_4_acc_6: 0.1615 - dense_4_acc_7: 0.0470 - dense_4_acc_8: 0.6290 - dense_4_acc_9: 0.1047 - dense_4_acc_10: 0.043 - ETA: 17s - loss: 21.8975 - dense_4_loss_1: 2.0262 - dense_4_loss_2: 2.0717 - dense_4_loss_3: 2.3821 - dense_4_loss_4: 2.7184 - dense_4_loss_5: 1.7542 - dense_4_loss_6: 1.8152 - dense_4_loss_7: 2.6237 - dense_4_loss_8: 1.7542 - dense_4_loss_9: 2.0440 - dense_4_loss_10: 2.7078 - dense_4_acc_1: 0.1273 - dense_4_acc_2: 0.0627 - dense_4_acc_3: 0.0707 - dense_4_acc_4: 0.0427 - dense_4_acc_5: 0.6380 - dense_4_acc_6: 0.1576 - dense_4_acc_7: 0.0459 - dense_4_acc_8: 0.6380 - dense_4_acc_9: 0.1022 - dense_4_acc_10: 0.042 - ETA: 17s - loss: 21.8818 - dense_4_loss_1: 2.0246 - dense_4_loss_2: 2.0683 - dense_4_loss_3: 2.3786 - dense_4_loss_4: 2.7176 - dense_4_loss_5: 1.7522 - dense_4_loss_6: 1.8125 - dense_4_loss_7: 2.6252 - dense_4_loss_8: 1.7522 - dense_4_loss_9: 2.0420 - dense_4_loss_10: 2.7086 - dense_4_acc_1: 0.1243 - dense_4_acc_2: 0.0612 - dense_4_acc_3: 0.0690 - dense_4_acc_4: 0.0417 - dense_4_acc_5: 0.6467 - dense_4_acc_6: 0.1538 - dense_4_acc_7: 0.0448 - dense_4_acc_8: 0.6467 - dense_4_acc_9: 0.0998 - dense_4_acc_10: 0.041 - ETA: 16s - loss: 21.8702 - dense_4_loss_1: 2.0216 - dense_4_loss_2: 2.0664 - dense_4_loss_3: 2.3774 - dense_4_loss_4: 2.7220 - dense_4_loss_5: 1.7503 - dense_4_loss_6: 1.8101 - dense_4_loss_7: 2.6233 - dense_4_loss_8: 1.7503 - dense_4_loss_9: 2.0396 - dense_4_loss_10: 2.7093 - dense_4_acc_1: 0.1214 - dense_4_acc_2: 0.0598 - dense_4_acc_3: 0.0674 - dense_4_acc_4: 0.0407 - dense_4_acc_5: 0.6549 - dense_4_acc_6: 0.1502 - dense_4_acc_7: 0.0437 - dense_4_acc_8: 0.6549 - dense_4_acc_9: 0.0974 - dense_4_acc_10: 0.040 - ETA: 16s - loss: 21.8542 - dense_4_loss_1: 2.0193 - dense_4_loss_2: 2.0643 - dense_4_loss_3: 2.3779 - dense_4_loss_4: 2.7221 - dense_4_loss_5: 1.7483 - dense_4_loss_6: 1.8078 - dense_4_loss_7: 2.6210 - dense_4_loss_8: 1.7483 - dense_4_loss_9: 2.0372 - dense_4_loss_10: 2.7081 - dense_4_acc_1: 0.1186 - dense_4_acc_2: 0.0584 - dense_4_acc_3: 0.0659 - dense_4_acc_4: 0.0398 - dense_4_acc_5: 0.6627 - dense_4_acc_6: 0.1468 - dense_4_acc_7: 0.0427 - dense_4_acc_8: 0.6627 - dense_4_acc_9: 0.0952 - dense_4_acc_10: 0.039 - ETA: 15s - loss: 21.8461 - dense_4_loss_1: 2.0165 - dense_4_loss_2: 2.0628 - dense_4_loss_3: 2.3776 - dense_4_loss_4: 2.7237 - dense_4_loss_5: 1.7462 - dense_4_loss_6: 1.8054 - dense_4_loss_7: 2.6208 - dense_4_loss_8: 1.7462 - dense_4_loss_9: 2.0356 - dense_4_loss_10: 2.7111 - dense_4_acc_1: 0.1160 - dense_4_acc_2: 0.0571 - dense_4_acc_3: 0.0644 - dense_4_acc_4: 0.0389 - dense_4_acc_5: 0.6702 - dense_4_acc_6: 0.1436 - dense_4_acc_7: 0.0418 - dense_4_acc_8: 0.6702 - dense_4_acc_9: 0.0931 - dense_4_acc_10: 0.038 - ETA: 15s - loss: 21.8345 - dense_4_loss_1: 2.0148 - dense_4_loss_2: 2.0608 - dense_4_loss_3: 2.3763 - dense_4_loss_4: 2.7259 - dense_4_loss_5: 1.7440 - dense_4_loss_6: 1.8032 - dense_4_loss_7: 2.6198 - dense_4_loss_8: 1.7440 - dense_4_loss_9: 2.0328 - dense_4_loss_10: 2.7128 - dense_4_acc_1: 0.1135 - dense_4_acc_2: 0.0559 - dense_4_acc_3: 0.0630 - dense_4_acc_4: 0.0380 - dense_4_acc_5: 0.6774 - dense_4_acc_6: 0.1404 - dense_4_acc_7: 0.0409 - dense_4_acc_8: 0.6774 - dense_4_acc_9: 0.0911 - dense_4_acc_10: 0.037 - ETA: 14s - loss: 21.8193 - dense_4_loss_1: 2.0118 - dense_4_loss_2: 2.0602 - dense_4_loss_3: 2.3762 - dense_4_loss_4: 2.7239 - dense_4_loss_5: 1.7417 - dense_4_loss_6: 1.8009 - dense_4_loss_7: 2.6213 - dense_4_loss_8: 1.7417 - dense_4_loss_9: 2.0311 - dense_4_loss_10: 2.7106 - dense_4_acc_1: 0.1111 - dense_4_acc_2: 0.0547 - dense_4_acc_3: 0.0617 - dense_4_acc_4: 0.0372 - dense_4_acc_5: 0.6843 - dense_4_acc_6: 0.1374 - dense_4_acc_7: 0.0400 - dense_4_acc_8: 0.6843 - dense_4_acc_9: 0.0891 - dense_4_acc_10: 0.036 - ETA: 14s - loss: 21.8065 - dense_4_loss_1: 2.0094 - dense_4_loss_2: 2.0592 - dense_4_loss_3: 2.3760 - dense_4_loss_4: 2.7272 - dense_4_loss_5: 1.7392 - dense_4_loss_6: 1.7987 - dense_4_loss_7: 2.6198 - dense_4_loss_8: 1.7392 - dense_4_loss_9: 2.0299 - dense_4_loss_10: 2.7081 - dense_4_acc_1: 0.1088 - dense_4_acc_2: 0.0535 - dense_4_acc_3: 0.0604 - dense_4_acc_4: 0.0365 - dense_4_acc_5: 0.6908 - dense_4_acc_6: 0.1346 - dense_4_acc_7: 0.0392 - dense_4_acc_8: 0.6908 - dense_4_acc_9: 0.0873 - dense_4_acc_10: 0.0360"
     ]
    },
    {
     "name": "stdout",
     "output_type": "stream",
     "text": [
      " 6400/10000 [==================>...........] - ETA: 13s - loss: 21.7963 - dense_4_loss_1: 2.0076 - dense_4_loss_2: 2.0577 - dense_4_loss_3: 2.3742 - dense_4_loss_4: 2.7294 - dense_4_loss_5: 1.7365 - dense_4_loss_6: 1.7963 - dense_4_loss_7: 2.6216 - dense_4_loss_8: 1.7365 - dense_4_loss_9: 2.0294 - dense_4_loss_10: 2.7069 - dense_4_acc_1: 0.1065 - dense_4_acc_2: 0.0524 - dense_4_acc_3: 0.0592 - dense_4_acc_4: 0.0357 - dense_4_acc_5: 0.6971 - dense_4_acc_6: 0.1318 - dense_4_acc_7: 0.0384 - dense_4_acc_8: 0.6971 - dense_4_acc_9: 0.0855 - dense_4_acc_10: 0.035 - ETA: 13s - loss: 21.7850 - dense_4_loss_1: 2.0058 - dense_4_loss_2: 2.0564 - dense_4_loss_3: 2.3730 - dense_4_loss_4: 2.7306 - dense_4_loss_5: 1.7338 - dense_4_loss_6: 1.7940 - dense_4_loss_7: 2.6219 - dense_4_loss_8: 1.7338 - dense_4_loss_9: 2.0288 - dense_4_loss_10: 2.7071 - dense_4_acc_1: 0.1044 - dense_4_acc_2: 0.0514 - dense_4_acc_3: 0.0580 - dense_4_acc_4: 0.0350 - dense_4_acc_5: 0.7032 - dense_4_acc_6: 0.1292 - dense_4_acc_7: 0.0376 - dense_4_acc_8: 0.7032 - dense_4_acc_9: 0.0838 - dense_4_acc_10: 0.034 - ETA: 13s - loss: 21.7723 - dense_4_loss_1: 2.0045 - dense_4_loss_2: 2.0546 - dense_4_loss_3: 2.3713 - dense_4_loss_4: 2.7333 - dense_4_loss_5: 1.7310 - dense_4_loss_6: 1.7916 - dense_4_loss_7: 2.6204 - dense_4_loss_8: 1.7310 - dense_4_loss_9: 2.0279 - dense_4_loss_10: 2.7067 - dense_4_acc_1: 0.1024 - dense_4_acc_2: 0.0504 - dense_4_acc_3: 0.0569 - dense_4_acc_4: 0.0343 - dense_4_acc_5: 0.7090 - dense_4_acc_6: 0.1267 - dense_4_acc_7: 0.0369 - dense_4_acc_8: 0.7090 - dense_4_acc_9: 0.0822 - dense_4_acc_10: 0.033 - ETA: 12s - loss: 21.7606 - dense_4_loss_1: 2.0036 - dense_4_loss_2: 2.0525 - dense_4_loss_3: 2.3685 - dense_4_loss_4: 2.7358 - dense_4_loss_5: 1.7281 - dense_4_loss_6: 1.7891 - dense_4_loss_7: 2.6189 - dense_4_loss_8: 1.7281 - dense_4_loss_9: 2.0278 - dense_4_loss_10: 2.7083 - dense_4_acc_1: 0.1004 - dense_4_acc_2: 0.0494 - dense_4_acc_3: 0.0558 - dense_4_acc_4: 0.0337 - dense_4_acc_5: 0.7146 - dense_4_acc_6: 0.1242 - dense_4_acc_7: 0.0362 - dense_4_acc_8: 0.7146 - dense_4_acc_9: 0.0806 - dense_4_acc_10: 0.033 - ETA: 12s - loss: 21.7494 - dense_4_loss_1: 2.0018 - dense_4_loss_2: 2.0513 - dense_4_loss_3: 2.3679 - dense_4_loss_4: 2.7372 - dense_4_loss_5: 1.7252 - dense_4_loss_6: 1.7865 - dense_4_loss_7: 2.6204 - dense_4_loss_8: 1.7252 - dense_4_loss_9: 2.0246 - dense_4_loss_10: 2.7093 - dense_4_acc_1: 0.0985 - dense_4_acc_2: 0.0485 - dense_4_acc_3: 0.0547 - dense_4_acc_4: 0.0330 - dense_4_acc_5: 0.7200 - dense_4_acc_6: 0.1219 - dense_4_acc_7: 0.0355 - dense_4_acc_8: 0.7200 - dense_4_acc_9: 0.0791 - dense_4_acc_10: 0.032 - ETA: 11s - loss: 21.7439 - dense_4_loss_1: 1.9986 - dense_4_loss_2: 2.0523 - dense_4_loss_3: 2.3696 - dense_4_loss_4: 2.7368 - dense_4_loss_5: 1.7224 - dense_4_loss_6: 1.7839 - dense_4_loss_7: 2.6217 - dense_4_loss_8: 1.7224 - dense_4_loss_9: 2.0232 - dense_4_loss_10: 2.7129 - dense_4_acc_1: 0.0967 - dense_4_acc_2: 0.0476 - dense_4_acc_3: 0.0537 - dense_4_acc_4: 0.0324 - dense_4_acc_5: 0.7252 - dense_4_acc_6: 0.1196 - dense_4_acc_7: 0.0348 - dense_4_acc_8: 0.7252 - dense_4_acc_9: 0.0776 - dense_4_acc_10: 0.032 - ETA: 11s - loss: 21.7363 - dense_4_loss_1: 1.9968 - dense_4_loss_2: 2.0514 - dense_4_loss_3: 2.3696 - dense_4_loss_4: 2.7385 - dense_4_loss_5: 1.7198 - dense_4_loss_6: 1.7813 - dense_4_loss_7: 2.6220 - dense_4_loss_8: 1.7198 - dense_4_loss_9: 2.0221 - dense_4_loss_10: 2.7151 - dense_4_acc_1: 0.0949 - dense_4_acc_2: 0.0467 - dense_4_acc_3: 0.0527 - dense_4_acc_4: 0.0318 - dense_4_acc_5: 0.7302 - dense_4_acc_6: 0.1175 - dense_4_acc_7: 0.0342 - dense_4_acc_8: 0.7302 - dense_4_acc_9: 0.0762 - dense_4_acc_10: 0.031 - ETA: 11s - loss: 21.7287 - dense_4_loss_1: 1.9952 - dense_4_loss_2: 2.0502 - dense_4_loss_3: 2.3681 - dense_4_loss_4: 2.7407 - dense_4_loss_5: 1.7172 - dense_4_loss_6: 1.7788 - dense_4_loss_7: 2.6228 - dense_4_loss_8: 1.7172 - dense_4_loss_9: 2.0200 - dense_4_loss_10: 2.7184 - dense_4_acc_1: 0.0932 - dense_4_acc_2: 0.0459 - dense_4_acc_3: 0.0518 - dense_4_acc_4: 0.0312 - dense_4_acc_5: 0.7350 - dense_4_acc_6: 0.1154 - dense_4_acc_7: 0.0336 - dense_4_acc_8: 0.7350 - dense_4_acc_9: 0.0748 - dense_4_acc_10: 0.030 - ETA: 10s - loss: 21.7217 - dense_4_loss_1: 1.9932 - dense_4_loss_2: 2.0500 - dense_4_loss_3: 2.3684 - dense_4_loss_4: 2.7433 - dense_4_loss_5: 1.7149 - dense_4_loss_6: 1.7763 - dense_4_loss_7: 2.6233 - dense_4_loss_8: 1.7149 - dense_4_loss_9: 2.0175 - dense_4_loss_10: 2.7199 - dense_4_acc_1: 0.0916 - dense_4_acc_2: 0.0458 - dense_4_acc_3: 0.0514 - dense_4_acc_4: 0.0309 - dense_4_acc_5: 0.7389 - dense_4_acc_6: 0.1140 - dense_4_acc_7: 0.0330 - dense_4_acc_8: 0.7389 - dense_4_acc_9: 0.0735 - dense_4_acc_10: 0.030 - ETA: 10s - loss: 21.7168 - dense_4_loss_1: 1.9914 - dense_4_loss_2: 2.0498 - dense_4_loss_3: 2.3685 - dense_4_loss_4: 2.7446 - dense_4_loss_5: 1.7128 - dense_4_loss_6: 1.7740 - dense_4_loss_7: 2.6240 - dense_4_loss_8: 1.7128 - dense_4_loss_9: 2.0168 - dense_4_loss_10: 2.7220 - dense_4_acc_1: 0.0900 - dense_4_acc_2: 0.0469 - dense_4_acc_3: 0.0517 - dense_4_acc_4: 0.0303 - dense_4_acc_5: 0.7416 - dense_4_acc_6: 0.1140 - dense_4_acc_7: 0.0324 - dense_4_acc_8: 0.7416 - dense_4_acc_9: 0.0726 - dense_4_acc_10: 0.030 - ETA: 10s - loss: 21.7093 - dense_4_loss_1: 1.9896 - dense_4_loss_2: 2.0497 - dense_4_loss_3: 2.3693 - dense_4_loss_4: 2.7448 - dense_4_loss_5: 1.7110 - dense_4_loss_6: 1.7720 - dense_4_loss_7: 2.6248 - dense_4_loss_8: 1.7110 - dense_4_loss_9: 2.0161 - dense_4_loss_10: 2.7211 - dense_4_acc_1: 0.0885 - dense_4_acc_2: 0.0481 - dense_4_acc_3: 0.0519 - dense_4_acc_4: 0.0302 - dense_4_acc_5: 0.7437 - dense_4_acc_6: 0.1139 - dense_4_acc_7: 0.0320 - dense_4_acc_8: 0.7437 - dense_4_acc_9: 0.0717 - dense_4_acc_10: 0.031 - ETA: 9s - loss: 21.6975 - dense_4_loss_1: 1.9881 - dense_4_loss_2: 2.0488 - dense_4_loss_3: 2.3683 - dense_4_loss_4: 2.7439 - dense_4_loss_5: 1.7094 - dense_4_loss_6: 1.7701 - dense_4_loss_7: 2.6229 - dense_4_loss_8: 1.7094 - dense_4_loss_9: 2.0154 - dense_4_loss_10: 2.7211 - dense_4_acc_1: 0.0870 - dense_4_acc_2: 0.0508 - dense_4_acc_3: 0.0535 - dense_4_acc_4: 0.0300 - dense_4_acc_5: 0.7445 - dense_4_acc_6: 0.1150 - dense_4_acc_7: 0.0317 - dense_4_acc_8: 0.7445 - dense_4_acc_9: 0.0715 - dense_4_acc_10: 0.031 - ETA: 9s - loss: 21.6943 - dense_4_loss_1: 1.9863 - dense_4_loss_2: 2.0487 - dense_4_loss_3: 2.3683 - dense_4_loss_4: 2.7458 - dense_4_loss_5: 1.7080 - dense_4_loss_6: 1.7683 - dense_4_loss_7: 2.6248 - dense_4_loss_8: 1.7080 - dense_4_loss_9: 2.0140 - dense_4_loss_10: 2.7221 - dense_4_acc_1: 0.0856 - dense_4_acc_2: 0.0520 - dense_4_acc_3: 0.0544 - dense_4_acc_4: 0.0303 - dense_4_acc_5: 0.7464 - dense_4_acc_6: 0.1152 - dense_4_acc_7: 0.0311 - dense_4_acc_8: 0.7464 - dense_4_acc_9: 0.0710 - dense_4_acc_10: 0.03 - ETA: 9s - loss: 21.6872 - dense_4_loss_1: 1.9850 - dense_4_loss_2: 2.0478 - dense_4_loss_3: 2.3671 - dense_4_loss_4: 2.7471 - dense_4_loss_5: 1.7068 - dense_4_loss_6: 1.7667 - dense_4_loss_7: 2.6252 - dense_4_loss_8: 1.7068 - dense_4_loss_9: 2.0131 - dense_4_loss_10: 2.7216 - dense_4_acc_1: 0.0842 - dense_4_acc_2: 0.0537 - dense_4_acc_3: 0.0555 - dense_4_acc_4: 0.0302 - dense_4_acc_5: 0.7479 - dense_4_acc_6: 0.1158 - dense_4_acc_7: 0.0306 - dense_4_acc_8: 0.7479 - dense_4_acc_9: 0.0705 - dense_4_acc_10: 0.03 - ETA: 8s - loss: 21.6787 - dense_4_loss_1: 1.9841 - dense_4_loss_2: 2.0466 - dense_4_loss_3: 2.3650 - dense_4_loss_4: 2.7497 - dense_4_loss_5: 1.7057 - dense_4_loss_6: 1.7653 - dense_4_loss_7: 2.6240 - dense_4_loss_8: 1.7057 - dense_4_loss_9: 2.0117 - dense_4_loss_10: 2.7210 - dense_4_acc_1: 0.0829 - dense_4_acc_2: 0.0549 - dense_4_acc_3: 0.0560 - dense_4_acc_4: 0.0300 - dense_4_acc_5: 0.7498 - dense_4_acc_6: 0.1159 - dense_4_acc_7: 0.0302 - dense_4_acc_8: 0.7498 - dense_4_acc_9: 0.0702 - dense_4_acc_10: 0.03 - ETA: 8s - loss: 21.6735 - dense_4_loss_1: 1.9831 - dense_4_loss_2: 2.0453 - dense_4_loss_3: 2.3632 - dense_4_loss_4: 2.7507 - dense_4_loss_5: 1.7047 - dense_4_loss_6: 1.7639 - dense_4_loss_7: 2.6260 - dense_4_loss_8: 1.7047 - dense_4_loss_9: 2.0100 - dense_4_loss_10: 2.7218 - dense_4_acc_1: 0.0816 - dense_4_acc_2: 0.0570 - dense_4_acc_3: 0.0573 - dense_4_acc_4: 0.0302 - dense_4_acc_5: 0.7508 - dense_4_acc_6: 0.1170 - dense_4_acc_7: 0.0297 - dense_4_acc_8: 0.7508 - dense_4_acc_9: 0.0700 - dense_4_acc_10: 0.0305"
     ]
    },
    {
     "name": "stdout",
     "output_type": "stream",
     "text": [
      " 8000/10000 [=======================>......] - ETA: 8s - loss: 21.6674 - dense_4_loss_1: 1.9818 - dense_4_loss_2: 2.0446 - dense_4_loss_3: 2.3630 - dense_4_loss_4: 2.7524 - dense_4_loss_5: 1.7037 - dense_4_loss_6: 1.7626 - dense_4_loss_7: 2.6252 - dense_4_loss_8: 1.7037 - dense_4_loss_9: 2.0075 - dense_4_loss_10: 2.7229 - dense_4_acc_1: 0.0803 - dense_4_acc_2: 0.0589 - dense_4_acc_3: 0.0583 - dense_4_acc_4: 0.0300 - dense_4_acc_5: 0.7515 - dense_4_acc_6: 0.1180 - dense_4_acc_7: 0.0292 - dense_4_acc_8: 0.7515 - dense_4_acc_9: 0.0694 - dense_4_acc_10: 0.03 - ETA: 7s - loss: 21.6590 - dense_4_loss_1: 1.9802 - dense_4_loss_2: 2.0440 - dense_4_loss_3: 2.3628 - dense_4_loss_4: 2.7521 - dense_4_loss_5: 1.7028 - dense_4_loss_6: 1.7612 - dense_4_loss_7: 2.6242 - dense_4_loss_8: 1.7028 - dense_4_loss_9: 2.0062 - dense_4_loss_10: 2.7227 - dense_4_acc_1: 0.0792 - dense_4_acc_2: 0.0615 - dense_4_acc_3: 0.0594 - dense_4_acc_4: 0.0302 - dense_4_acc_5: 0.7512 - dense_4_acc_6: 0.1194 - dense_4_acc_7: 0.0292 - dense_4_acc_8: 0.7512 - dense_4_acc_9: 0.0694 - dense_4_acc_10: 0.03 - ETA: 7s - loss: 21.6511 - dense_4_loss_1: 1.9788 - dense_4_loss_2: 2.0427 - dense_4_loss_3: 2.3616 - dense_4_loss_4: 2.7527 - dense_4_loss_5: 1.7018 - dense_4_loss_6: 1.7596 - dense_4_loss_7: 2.6252 - dense_4_loss_8: 1.7018 - dense_4_loss_9: 2.0053 - dense_4_loss_10: 2.7217 - dense_4_acc_1: 0.0781 - dense_4_acc_2: 0.0658 - dense_4_acc_3: 0.0615 - dense_4_acc_4: 0.0300 - dense_4_acc_5: 0.7488 - dense_4_acc_6: 0.1233 - dense_4_acc_7: 0.0291 - dense_4_acc_8: 0.7488 - dense_4_acc_9: 0.0703 - dense_4_acc_10: 0.03 - ETA: 7s - loss: 21.6458 - dense_4_loss_1: 1.9774 - dense_4_loss_2: 2.0415 - dense_4_loss_3: 2.3604 - dense_4_loss_4: 2.7535 - dense_4_loss_5: 1.7007 - dense_4_loss_6: 1.7580 - dense_4_loss_7: 2.6254 - dense_4_loss_8: 1.7007 - dense_4_loss_9: 2.0037 - dense_4_loss_10: 2.7246 - dense_4_acc_1: 0.0771 - dense_4_acc_2: 0.0701 - dense_4_acc_3: 0.0631 - dense_4_acc_4: 0.0303 - dense_4_acc_5: 0.7453 - dense_4_acc_6: 0.1271 - dense_4_acc_7: 0.0294 - dense_4_acc_8: 0.7453 - dense_4_acc_9: 0.0715 - dense_4_acc_10: 0.03 - ETA: 6s - loss: 21.6355 - dense_4_loss_1: 1.9758 - dense_4_loss_2: 2.0398 - dense_4_loss_3: 2.3588 - dense_4_loss_4: 2.7524 - dense_4_loss_5: 1.6996 - dense_4_loss_6: 1.7559 - dense_4_loss_7: 2.6256 - dense_4_loss_8: 1.6996 - dense_4_loss_9: 2.0028 - dense_4_loss_10: 2.7252 - dense_4_acc_1: 0.0764 - dense_4_acc_2: 0.0749 - dense_4_acc_3: 0.0664 - dense_4_acc_4: 0.0313 - dense_4_acc_5: 0.7390 - dense_4_acc_6: 0.1333 - dense_4_acc_7: 0.0303 - dense_4_acc_8: 0.7390 - dense_4_acc_9: 0.0733 - dense_4_acc_10: 0.03 - ETA: 6s - loss: 21.6280 - dense_4_loss_1: 1.9737 - dense_4_loss_2: 2.0390 - dense_4_loss_3: 2.3589 - dense_4_loss_4: 2.7515 - dense_4_loss_5: 1.6984 - dense_4_loss_6: 1.7539 - dense_4_loss_7: 2.6265 - dense_4_loss_8: 1.6984 - dense_4_loss_9: 2.0019 - dense_4_loss_10: 2.7258 - dense_4_acc_1: 0.0767 - dense_4_acc_2: 0.0787 - dense_4_acc_3: 0.0679 - dense_4_acc_4: 0.0324 - dense_4_acc_5: 0.7337 - dense_4_acc_6: 0.1384 - dense_4_acc_7: 0.0306 - dense_4_acc_8: 0.7337 - dense_4_acc_9: 0.0747 - dense_4_acc_10: 0.03 - ETA: 6s - loss: 21.6208 - dense_4_loss_1: 1.9712 - dense_4_loss_2: 2.0380 - dense_4_loss_3: 2.3582 - dense_4_loss_4: 2.7531 - dense_4_loss_5: 1.6973 - dense_4_loss_6: 1.7523 - dense_4_loss_7: 2.6268 - dense_4_loss_8: 1.6973 - dense_4_loss_9: 1.9999 - dense_4_loss_10: 2.7266 - dense_4_acc_1: 0.0789 - dense_4_acc_2: 0.0813 - dense_4_acc_3: 0.0696 - dense_4_acc_4: 0.0328 - dense_4_acc_5: 0.7286 - dense_4_acc_6: 0.1425 - dense_4_acc_7: 0.0317 - dense_4_acc_8: 0.7286 - dense_4_acc_9: 0.0766 - dense_4_acc_10: 0.03 - ETA: 6s - loss: 21.6110 - dense_4_loss_1: 1.9695 - dense_4_loss_2: 2.0360 - dense_4_loss_3: 2.3556 - dense_4_loss_4: 2.7553 - dense_4_loss_5: 1.6962 - dense_4_loss_6: 1.7506 - dense_4_loss_7: 2.6271 - dense_4_loss_8: 1.6962 - dense_4_loss_9: 1.9991 - dense_4_loss_10: 2.7254 - dense_4_acc_1: 0.0814 - dense_4_acc_2: 0.0843 - dense_4_acc_3: 0.0719 - dense_4_acc_4: 0.0340 - dense_4_acc_5: 0.7224 - dense_4_acc_6: 0.1475 - dense_4_acc_7: 0.0329 - dense_4_acc_8: 0.7224 - dense_4_acc_9: 0.0790 - dense_4_acc_10: 0.03 - ETA: 5s - loss: 21.6044 - dense_4_loss_1: 1.9671 - dense_4_loss_2: 2.0339 - dense_4_loss_3: 2.3543 - dense_4_loss_4: 2.7560 - dense_4_loss_5: 1.6952 - dense_4_loss_6: 1.7495 - dense_4_loss_7: 2.6305 - dense_4_loss_8: 1.6952 - dense_4_loss_9: 1.9974 - dense_4_loss_10: 2.7253 - dense_4_acc_1: 0.0860 - dense_4_acc_2: 0.0864 - dense_4_acc_3: 0.0740 - dense_4_acc_4: 0.0352 - dense_4_acc_5: 0.7152 - dense_4_acc_6: 0.1510 - dense_4_acc_7: 0.0333 - dense_4_acc_8: 0.7152 - dense_4_acc_9: 0.0829 - dense_4_acc_10: 0.03 - ETA: 5s - loss: 21.5971 - dense_4_loss_1: 1.9646 - dense_4_loss_2: 2.0317 - dense_4_loss_3: 2.3519 - dense_4_loss_4: 2.7565 - dense_4_loss_5: 1.6943 - dense_4_loss_6: 1.7482 - dense_4_loss_7: 2.6328 - dense_4_loss_8: 1.6943 - dense_4_loss_9: 1.9964 - dense_4_loss_10: 2.7265 - dense_4_acc_1: 0.0907 - dense_4_acc_2: 0.0885 - dense_4_acc_3: 0.0766 - dense_4_acc_4: 0.0357 - dense_4_acc_5: 0.7080 - dense_4_acc_6: 0.1549 - dense_4_acc_7: 0.0341 - dense_4_acc_8: 0.7080 - dense_4_acc_9: 0.0861 - dense_4_acc_10: 0.03 - ETA: 5s - loss: 21.5923 - dense_4_loss_1: 1.9623 - dense_4_loss_2: 2.0297 - dense_4_loss_3: 2.3522 - dense_4_loss_4: 2.7573 - dense_4_loss_5: 1.6934 - dense_4_loss_6: 1.7471 - dense_4_loss_7: 2.6343 - dense_4_loss_8: 1.6934 - dense_4_loss_9: 1.9948 - dense_4_loss_10: 2.7278 - dense_4_acc_1: 0.0955 - dense_4_acc_2: 0.0907 - dense_4_acc_3: 0.0781 - dense_4_acc_4: 0.0367 - dense_4_acc_5: 0.7005 - dense_4_acc_6: 0.1592 - dense_4_acc_7: 0.0351 - dense_4_acc_8: 0.7005 - dense_4_acc_9: 0.0904 - dense_4_acc_10: 0.03 - ETA: 5s - loss: 21.5852 - dense_4_loss_1: 1.9600 - dense_4_loss_2: 2.0287 - dense_4_loss_3: 2.3529 - dense_4_loss_4: 2.7577 - dense_4_loss_5: 1.6925 - dense_4_loss_6: 1.7460 - dense_4_loss_7: 2.6330 - dense_4_loss_8: 1.6925 - dense_4_loss_9: 1.9945 - dense_4_loss_10: 2.7274 - dense_4_acc_1: 0.0983 - dense_4_acc_2: 0.0928 - dense_4_acc_3: 0.0800 - dense_4_acc_4: 0.0370 - dense_4_acc_5: 0.6945 - dense_4_acc_6: 0.1637 - dense_4_acc_7: 0.0359 - dense_4_acc_8: 0.6945 - dense_4_acc_9: 0.0918 - dense_4_acc_10: 0.03 - ETA: 4s - loss: 21.5744 - dense_4_loss_1: 1.9567 - dense_4_loss_2: 2.0264 - dense_4_loss_3: 2.3518 - dense_4_loss_4: 2.7574 - dense_4_loss_5: 1.6916 - dense_4_loss_6: 1.7452 - dense_4_loss_7: 2.6336 - dense_4_loss_8: 1.6916 - dense_4_loss_9: 1.9933 - dense_4_loss_10: 2.7269 - dense_4_acc_1: 0.1019 - dense_4_acc_2: 0.0955 - dense_4_acc_3: 0.0812 - dense_4_acc_4: 0.0378 - dense_4_acc_5: 0.6890 - dense_4_acc_6: 0.1670 - dense_4_acc_7: 0.0373 - dense_4_acc_8: 0.6890 - dense_4_acc_9: 0.0948 - dense_4_acc_10: 0.03 - ETA: 4s - loss: 21.5676 - dense_4_loss_1: 1.9539 - dense_4_loss_2: 2.0254 - dense_4_loss_3: 2.3522 - dense_4_loss_4: 2.7568 - dense_4_loss_5: 1.6908 - dense_4_loss_6: 1.7445 - dense_4_loss_7: 2.6330 - dense_4_loss_8: 1.6908 - dense_4_loss_9: 1.9929 - dense_4_loss_10: 2.7272 - dense_4_acc_1: 0.1059 - dense_4_acc_2: 0.0969 - dense_4_acc_3: 0.0822 - dense_4_acc_4: 0.0390 - dense_4_acc_5: 0.6833 - dense_4_acc_6: 0.1704 - dense_4_acc_7: 0.0385 - dense_4_acc_8: 0.6833 - dense_4_acc_9: 0.0967 - dense_4_acc_10: 0.03 - ETA: 4s - loss: 21.5619 - dense_4_loss_1: 1.9508 - dense_4_loss_2: 2.0234 - dense_4_loss_3: 2.3526 - dense_4_loss_4: 2.7569 - dense_4_loss_5: 1.6900 - dense_4_loss_6: 1.7445 - dense_4_loss_7: 2.6337 - dense_4_loss_8: 1.6900 - dense_4_loss_9: 1.9934 - dense_4_loss_10: 2.7267 - dense_4_acc_1: 0.1106 - dense_4_acc_2: 0.0986 - dense_4_acc_3: 0.0827 - dense_4_acc_4: 0.0399 - dense_4_acc_5: 0.6778 - dense_4_acc_6: 0.1724 - dense_4_acc_7: 0.0389 - dense_4_acc_8: 0.6778 - dense_4_acc_9: 0.0987 - dense_4_acc_10: 0.03 - ETA: 4s - loss: 21.5540 - dense_4_loss_1: 1.9486 - dense_4_loss_2: 2.0207 - dense_4_loss_3: 2.3513 - dense_4_loss_4: 2.7575 - dense_4_loss_5: 1.6892 - dense_4_loss_6: 1.7440 - dense_4_loss_7: 2.6350 - dense_4_loss_8: 1.6892 - dense_4_loss_9: 1.9927 - dense_4_loss_10: 2.7257 - dense_4_acc_1: 0.1140 - dense_4_acc_2: 0.1007 - dense_4_acc_3: 0.0841 - dense_4_acc_4: 0.0405 - dense_4_acc_5: 0.6730 - dense_4_acc_6: 0.1754 - dense_4_acc_7: 0.0396 - dense_4_acc_8: 0.6730 - dense_4_acc_9: 0.1017 - dense_4_acc_10: 0.0410"
     ]
    },
    {
     "name": "stdout",
     "output_type": "stream",
     "text": [
      " 9600/10000 [===========================>..] - ETA: 3s - loss: 21.5443 - dense_4_loss_1: 1.9461 - dense_4_loss_2: 2.0184 - dense_4_loss_3: 2.3497 - dense_4_loss_4: 2.7568 - dense_4_loss_5: 1.6884 - dense_4_loss_6: 1.7440 - dense_4_loss_7: 2.6344 - dense_4_loss_8: 1.6884 - dense_4_loss_9: 1.9925 - dense_4_loss_10: 2.7256 - dense_4_acc_1: 0.1186 - dense_4_acc_2: 0.1023 - dense_4_acc_3: 0.0858 - dense_4_acc_4: 0.0416 - dense_4_acc_5: 0.6670 - dense_4_acc_6: 0.1786 - dense_4_acc_7: 0.0410 - dense_4_acc_8: 0.6670 - dense_4_acc_9: 0.1040 - dense_4_acc_10: 0.04 - ETA: 3s - loss: 21.5342 - dense_4_loss_1: 1.9427 - dense_4_loss_2: 2.0159 - dense_4_loss_3: 2.3488 - dense_4_loss_4: 2.7562 - dense_4_loss_5: 1.6875 - dense_4_loss_6: 1.7438 - dense_4_loss_7: 2.6347 - dense_4_loss_8: 1.6875 - dense_4_loss_9: 1.9922 - dense_4_loss_10: 2.7248 - dense_4_acc_1: 0.1227 - dense_4_acc_2: 0.1045 - dense_4_acc_3: 0.0868 - dense_4_acc_4: 0.0427 - dense_4_acc_5: 0.6620 - dense_4_acc_6: 0.1811 - dense_4_acc_7: 0.0418 - dense_4_acc_8: 0.6620 - dense_4_acc_9: 0.1061 - dense_4_acc_10: 0.04 - ETA: 3s - loss: 21.5201 - dense_4_loss_1: 1.9397 - dense_4_loss_2: 2.0130 - dense_4_loss_3: 2.3468 - dense_4_loss_4: 2.7540 - dense_4_loss_5: 1.6866 - dense_4_loss_6: 1.7434 - dense_4_loss_7: 2.6346 - dense_4_loss_8: 1.6866 - dense_4_loss_9: 1.9915 - dense_4_loss_10: 2.7239 - dense_4_acc_1: 0.1258 - dense_4_acc_2: 0.1073 - dense_4_acc_3: 0.0889 - dense_4_acc_4: 0.0443 - dense_4_acc_5: 0.6569 - dense_4_acc_6: 0.1837 - dense_4_acc_7: 0.0420 - dense_4_acc_8: 0.6569 - dense_4_acc_9: 0.1084 - dense_4_acc_10: 0.04 - ETA: 3s - loss: 21.5118 - dense_4_loss_1: 1.9371 - dense_4_loss_2: 2.0112 - dense_4_loss_3: 2.3468 - dense_4_loss_4: 2.7550 - dense_4_loss_5: 1.6856 - dense_4_loss_6: 1.7420 - dense_4_loss_7: 2.6337 - dense_4_loss_8: 1.6856 - dense_4_loss_9: 1.9896 - dense_4_loss_10: 2.7252 - dense_4_acc_1: 0.1279 - dense_4_acc_2: 0.1102 - dense_4_acc_3: 0.0899 - dense_4_acc_4: 0.0451 - dense_4_acc_5: 0.6510 - dense_4_acc_6: 0.1881 - dense_4_acc_7: 0.0429 - dense_4_acc_8: 0.6510 - dense_4_acc_9: 0.1111 - dense_4_acc_10: 0.04 - ETA: 3s - loss: 21.5041 - dense_4_loss_1: 1.9343 - dense_4_loss_2: 2.0081 - dense_4_loss_3: 2.3455 - dense_4_loss_4: 2.7561 - dense_4_loss_5: 1.6848 - dense_4_loss_6: 1.7402 - dense_4_loss_7: 2.6349 - dense_4_loss_8: 1.6848 - dense_4_loss_9: 1.9887 - dense_4_loss_10: 2.7268 - dense_4_acc_1: 0.1302 - dense_4_acc_2: 0.1139 - dense_4_acc_3: 0.0911 - dense_4_acc_4: 0.0460 - dense_4_acc_5: 0.6452 - dense_4_acc_6: 0.1922 - dense_4_acc_7: 0.0434 - dense_4_acc_8: 0.6452 - dense_4_acc_9: 0.1132 - dense_4_acc_10: 0.04 - ETA: 2s - loss: 21.4971 - dense_4_loss_1: 1.9317 - dense_4_loss_2: 2.0055 - dense_4_loss_3: 2.3441 - dense_4_loss_4: 2.7568 - dense_4_loss_5: 1.6837 - dense_4_loss_6: 1.7397 - dense_4_loss_7: 2.6348 - dense_4_loss_8: 1.6837 - dense_4_loss_9: 1.9883 - dense_4_loss_10: 2.7287 - dense_4_acc_1: 0.1341 - dense_4_acc_2: 0.1156 - dense_4_acc_3: 0.0916 - dense_4_acc_4: 0.0465 - dense_4_acc_5: 0.6403 - dense_4_acc_6: 0.1944 - dense_4_acc_7: 0.0443 - dense_4_acc_8: 0.6403 - dense_4_acc_9: 0.1152 - dense_4_acc_10: 0.04 - ETA: 2s - loss: 21.4891 - dense_4_loss_1: 1.9290 - dense_4_loss_2: 2.0021 - dense_4_loss_3: 2.3420 - dense_4_loss_4: 2.7590 - dense_4_loss_5: 1.6827 - dense_4_loss_6: 1.7394 - dense_4_loss_7: 2.6339 - dense_4_loss_8: 1.6827 - dense_4_loss_9: 1.9879 - dense_4_loss_10: 2.7305 - dense_4_acc_1: 0.1383 - dense_4_acc_2: 0.1177 - dense_4_acc_3: 0.0931 - dense_4_acc_4: 0.0468 - dense_4_acc_5: 0.6351 - dense_4_acc_6: 0.1966 - dense_4_acc_7: 0.0457 - dense_4_acc_8: 0.6351 - dense_4_acc_9: 0.1175 - dense_4_acc_10: 0.04 - ETA: 2s - loss: 21.4814 - dense_4_loss_1: 1.9260 - dense_4_loss_2: 1.9985 - dense_4_loss_3: 2.3400 - dense_4_loss_4: 2.7603 - dense_4_loss_5: 1.6819 - dense_4_loss_6: 1.7388 - dense_4_loss_7: 2.6337 - dense_4_loss_8: 1.6819 - dense_4_loss_9: 1.9878 - dense_4_loss_10: 2.7325 - dense_4_acc_1: 0.1424 - dense_4_acc_2: 0.1200 - dense_4_acc_3: 0.0943 - dense_4_acc_4: 0.0473 - dense_4_acc_5: 0.6293 - dense_4_acc_6: 0.1992 - dense_4_acc_7: 0.0469 - dense_4_acc_8: 0.6293 - dense_4_acc_9: 0.1197 - dense_4_acc_10: 0.04 - ETA: 2s - loss: 21.4707 - dense_4_loss_1: 1.9230 - dense_4_loss_2: 1.9947 - dense_4_loss_3: 2.3373 - dense_4_loss_4: 2.7615 - dense_4_loss_5: 1.6812 - dense_4_loss_6: 1.7385 - dense_4_loss_7: 2.6332 - dense_4_loss_8: 1.6812 - dense_4_loss_9: 1.9872 - dense_4_loss_10: 2.7330 - dense_4_acc_1: 0.1456 - dense_4_acc_2: 0.1229 - dense_4_acc_3: 0.0964 - dense_4_acc_4: 0.0476 - dense_4_acc_5: 0.6239 - dense_4_acc_6: 0.2013 - dense_4_acc_7: 0.0483 - dense_4_acc_8: 0.6239 - dense_4_acc_9: 0.1217 - dense_4_acc_10: 0.04 - ETA: 1s - loss: 21.4600 - dense_4_loss_1: 1.9200 - dense_4_loss_2: 1.9924 - dense_4_loss_3: 2.3368 - dense_4_loss_4: 2.7610 - dense_4_loss_5: 1.6804 - dense_4_loss_6: 1.7385 - dense_4_loss_7: 2.6301 - dense_4_loss_8: 1.6804 - dense_4_loss_9: 1.9874 - dense_4_loss_10: 2.7329 - dense_4_acc_1: 0.1493 - dense_4_acc_2: 0.1246 - dense_4_acc_3: 0.0972 - dense_4_acc_4: 0.0482 - dense_4_acc_5: 0.6189 - dense_4_acc_6: 0.2033 - dense_4_acc_7: 0.0507 - dense_4_acc_8: 0.6189 - dense_4_acc_9: 0.1238 - dense_4_acc_10: 0.04 - ETA: 1s - loss: 21.4547 - dense_4_loss_1: 1.9169 - dense_4_loss_2: 1.9891 - dense_4_loss_3: 2.3356 - dense_4_loss_4: 2.7629 - dense_4_loss_5: 1.6800 - dense_4_loss_6: 1.7379 - dense_4_loss_7: 2.6308 - dense_4_loss_8: 1.6800 - dense_4_loss_9: 1.9885 - dense_4_loss_10: 2.7330 - dense_4_acc_1: 0.1532 - dense_4_acc_2: 0.1270 - dense_4_acc_3: 0.0984 - dense_4_acc_4: 0.0482 - dense_4_acc_5: 0.6131 - dense_4_acc_6: 0.2062 - dense_4_acc_7: 0.0519 - dense_4_acc_8: 0.6131 - dense_4_acc_9: 0.1253 - dense_4_acc_10: 0.04 - ETA: 1s - loss: 21.4479 - dense_4_loss_1: 1.9138 - dense_4_loss_2: 1.9865 - dense_4_loss_3: 2.3345 - dense_4_loss_4: 2.7630 - dense_4_loss_5: 1.6795 - dense_4_loss_6: 1.7378 - dense_4_loss_7: 2.6311 - dense_4_loss_8: 1.6795 - dense_4_loss_9: 1.9892 - dense_4_loss_10: 2.7331 - dense_4_acc_1: 0.1565 - dense_4_acc_2: 0.1287 - dense_4_acc_3: 0.0991 - dense_4_acc_4: 0.0491 - dense_4_acc_5: 0.6087 - dense_4_acc_6: 0.2084 - dense_4_acc_7: 0.0527 - dense_4_acc_8: 0.6087 - dense_4_acc_9: 0.1266 - dense_4_acc_10: 0.05 - ETA: 1s - loss: 21.4400 - dense_4_loss_1: 1.9117 - dense_4_loss_2: 1.9834 - dense_4_loss_3: 2.3325 - dense_4_loss_4: 2.7632 - dense_4_loss_5: 1.6790 - dense_4_loss_6: 1.7382 - dense_4_loss_7: 2.6308 - dense_4_loss_8: 1.6790 - dense_4_loss_9: 1.9897 - dense_4_loss_10: 2.7326 - dense_4_acc_1: 0.1600 - dense_4_acc_2: 0.1305 - dense_4_acc_3: 0.1002 - dense_4_acc_4: 0.0495 - dense_4_acc_5: 0.6039 - dense_4_acc_6: 0.2105 - dense_4_acc_7: 0.0538 - dense_4_acc_8: 0.6039 - dense_4_acc_9: 0.1280 - dense_4_acc_10: 0.05 - ETA: 1s - loss: 21.4336 - dense_4_loss_1: 1.9093 - dense_4_loss_2: 1.9803 - dense_4_loss_3: 2.3317 - dense_4_loss_4: 2.7638 - dense_4_loss_5: 1.6786 - dense_4_loss_6: 1.7394 - dense_4_loss_7: 2.6309 - dense_4_loss_8: 1.6786 - dense_4_loss_9: 1.9896 - dense_4_loss_10: 2.7314 - dense_4_acc_1: 0.1635 - dense_4_acc_2: 0.1322 - dense_4_acc_3: 0.1001 - dense_4_acc_4: 0.0505 - dense_4_acc_5: 0.5996 - dense_4_acc_6: 0.2118 - dense_4_acc_7: 0.0539 - dense_4_acc_8: 0.5996 - dense_4_acc_9: 0.1298 - dense_4_acc_10: 0.05 - ETA: 0s - loss: 21.4283 - dense_4_loss_1: 1.9068 - dense_4_loss_2: 1.9775 - dense_4_loss_3: 2.3308 - dense_4_loss_4: 2.7643 - dense_4_loss_5: 1.6781 - dense_4_loss_6: 1.7392 - dense_4_loss_7: 2.6313 - dense_4_loss_8: 1.6781 - dense_4_loss_9: 1.9897 - dense_4_loss_10: 2.7326 - dense_4_acc_1: 0.1661 - dense_4_acc_2: 0.1339 - dense_4_acc_3: 0.1009 - dense_4_acc_4: 0.0509 - dense_4_acc_5: 0.5962 - dense_4_acc_6: 0.2140 - dense_4_acc_7: 0.0546 - dense_4_acc_8: 0.5962 - dense_4_acc_9: 0.1313 - dense_4_acc_10: 0.05 - ETA: 0s - loss: 21.4215 - dense_4_loss_1: 1.9043 - dense_4_loss_2: 1.9750 - dense_4_loss_3: 2.3286 - dense_4_loss_4: 2.7639 - dense_4_loss_5: 1.6775 - dense_4_loss_6: 1.7398 - dense_4_loss_7: 2.6312 - dense_4_loss_8: 1.6775 - dense_4_loss_9: 1.9903 - dense_4_loss_10: 2.7333 - dense_4_acc_1: 0.1679 - dense_4_acc_2: 0.1361 - dense_4_acc_3: 0.1020 - dense_4_acc_4: 0.0517 - dense_4_acc_5: 0.5927 - dense_4_acc_6: 0.2157 - dense_4_acc_7: 0.0555 - dense_4_acc_8: 0.5927 - dense_4_acc_9: 0.1321 - dense_4_acc_10: 0.0527"
     ]
    },
    {
     "name": "stdout",
     "output_type": "stream",
     "text": [
      "10000/10000 [==============================] - ETA: 0s - loss: 21.4162 - dense_4_loss_1: 1.9021 - dense_4_loss_2: 1.9733 - dense_4_loss_3: 2.3283 - dense_4_loss_4: 2.7642 - dense_4_loss_5: 1.6770 - dense_4_loss_6: 1.7389 - dense_4_loss_7: 2.6326 - dense_4_loss_8: 1.6770 - dense_4_loss_9: 1.9896 - dense_4_loss_10: 2.7330 - dense_4_acc_1: 0.1689 - dense_4_acc_2: 0.1384 - dense_4_acc_3: 0.1024 - dense_4_acc_4: 0.0524 - dense_4_acc_5: 0.5897 - dense_4_acc_6: 0.2187 - dense_4_acc_7: 0.0557 - dense_4_acc_8: 0.5897 - dense_4_acc_9: 0.1339 - dense_4_acc_10: 0.05 - ETA: 0s - loss: 21.4066 - dense_4_loss_1: 1.8996 - dense_4_loss_2: 1.9705 - dense_4_loss_3: 2.3265 - dense_4_loss_4: 2.7637 - dense_4_loss_5: 1.6765 - dense_4_loss_6: 1.7385 - dense_4_loss_7: 2.6320 - dense_4_loss_8: 1.6765 - dense_4_loss_9: 1.9891 - dense_4_loss_10: 2.7339 - dense_4_acc_1: 0.1698 - dense_4_acc_2: 0.1414 - dense_4_acc_3: 0.1040 - dense_4_acc_4: 0.0526 - dense_4_acc_5: 0.5863 - dense_4_acc_6: 0.2208 - dense_4_acc_7: 0.0560 - dense_4_acc_8: 0.5863 - dense_4_acc_9: 0.1354 - dense_4_acc_10: 0.05 - ETA: 0s - loss: 21.3993 - dense_4_loss_1: 1.8974 - dense_4_loss_2: 1.9682 - dense_4_loss_3: 2.3249 - dense_4_loss_4: 2.7638 - dense_4_loss_5: 1.6759 - dense_4_loss_6: 1.7388 - dense_4_loss_7: 2.6322 - dense_4_loss_8: 1.6759 - dense_4_loss_9: 1.9892 - dense_4_loss_10: 2.7331 - dense_4_acc_1: 0.1708 - dense_4_acc_2: 0.1434 - dense_4_acc_3: 0.1049 - dense_4_acc_4: 0.0528 - dense_4_acc_5: 0.5840 - dense_4_acc_6: 0.2224 - dense_4_acc_7: 0.0565 - dense_4_acc_8: 0.5840 - dense_4_acc_9: 0.1368 - dense_4_acc_10: 0.05 - 19s 2ms/step - loss: 21.3911 - dense_4_loss_1: 1.8952 - dense_4_loss_2: 1.9663 - dense_4_loss_3: 2.3233 - dense_4_loss_4: 2.7628 - dense_4_loss_5: 1.6752 - dense_4_loss_6: 1.7394 - dense_4_loss_7: 2.6313 - dense_4_loss_8: 1.6752 - dense_4_loss_9: 1.9900 - dense_4_loss_10: 2.7326 - dense_4_acc_1: 0.1731 - dense_4_acc_2: 0.1444 - dense_4_acc_3: 0.1056 - dense_4_acc_4: 0.0537 - dense_4_acc_5: 0.5814 - dense_4_acc_6: 0.2234 - dense_4_acc_7: 0.0568 - dense_4_acc_8: 0.5814 - dense_4_acc_9: 0.1383 - dense_4_acc_10: 0.0551\n"
     ]
    },
    {
     "data": {
      "text/plain": [
       "<keras.callbacks.History at 0x1c084d40dd8>"
      ]
     },
     "execution_count": 46,
     "metadata": {},
     "output_type": "execute_result"
    }
   ],
   "source": [
    "# model.fit([Xoh, s0, c0], outputs, epochs=1, batch_size=100)\n",
    "model.fit([Xoh, s0], outputs, epochs=1, batch_size=100)"
   ]
  },
  {
   "cell_type": "markdown",
   "metadata": {},
   "source": [
    "While training you can see the loss as well as the accuracy on each of the 10 positions of the output. The table below gives you an example of what the accuracies could be if the batch had 2 examples: \n",
    "\n",
    "<img src=\"images/table.png\" style=\"width:700;height:200px;\"> <br>\n",
    "<caption><center>Thus, `dense_2_acc_8: 0.89` means that you are predicting the 7th character of the output correctly 89% of the time in the current batch of data. </center></caption>\n",
    "\n",
    "\n",
    "We have run this model for longer, and saved the weights. Run the next cell to load our weights. (By training a model for several minutes, you should be able to obtain a model of similar accuracy, but loading our model will save you time.) "
   ]
  },
  {
   "cell_type": "code",
   "execution_count": 17,
   "metadata": {},
   "outputs": [],
   "source": [
    "model.load_weights('models/model.h5')"
   ]
  },
  {
   "cell_type": "markdown",
   "metadata": {},
   "source": [
    "You can now see the results on new examples."
   ]
  },
  {
   "cell_type": "code",
   "execution_count": 26,
   "metadata": {},
   "outputs": [
    {
     "name": "stdout",
     "output_type": "stream",
     "text": [
      "source: 3 May 1979\n",
      "output: 1979-05-03\n",
      "source: 5 April 09\n",
      "output: 2009-05-05\n",
      "source: 21th of August 2016\n",
      "output: 2016-08-21\n",
      "source: Tue 10 Jul 2007\n",
      "output: 2007-07-10\n",
      "source: Saturday May 9 2018\n",
      "output: 2018-05-09\n",
      "source: March 3 2001\n",
      "output: 2001-03-03\n",
      "source: March 3rd 2001\n",
      "output: 2001-03-03\n",
      "source: 1 March 2001\n",
      "output: 2001-03-01\n"
     ]
    }
   ],
   "source": [
    "EXAMPLES = ['3 May 1979', '5 April 09', '21th of August 2016', 'Tue 10 Jul 2007', 'Saturday May 9 2018', 'March 3 2001', 'March 3rd 2001', '1 March 2001']\n",
    "for example in EXAMPLES:\n",
    "    \n",
    "    source = string_to_int(example, Tx, human_vocab)\n",
    "    source = np.array(list(map(lambda x: to_categorical(x, num_classes=len(human_vocab)), source))).swapaxes(0,1)\n",
    "\n",
    "#     print(source.shape)\n",
    "    source = np.transpose(source)\n",
    "    sources = np.zeros((1, source.shape[0], source.shape[1]))\n",
    "    sources[0] = source\n",
    "    \n",
    "    prediction = model.predict([sources, s0, c0])\n",
    "    prediction = np.argmax(prediction, axis = -1)\n",
    "    output = [inv_machine_vocab[int(i)] for i in prediction]\n",
    "    \n",
    "    print(\"source:\", example)\n",
    "    print(\"output:\", ''.join(output))"
   ]
  },
  {
   "cell_type": "markdown",
   "metadata": {},
   "source": [
    "You can also change these examples to test with your own examples. The next part will give you a better sense on what the attention mechanism is doing--i.e., what part of the input the network is paying attention to when generating a particular output character. "
   ]
  },
  {
   "cell_type": "markdown",
   "metadata": {},
   "source": [
    "## 3 - Visualizing Attention (Optional / Ungraded)\n",
    "\n",
    "Since the problem has a fixed output length of 10, it is also possible to carry out this task using 10 different softmax units to generate the 10 characters of the output. But one advantage of the attention model is that each part of the output (say the month) knows it needs to depend only on a small part of the input (the characters in the input giving the month). We can  visualize what part of the output is looking at what part of the input.\n",
    "\n",
    "Consider the task of translating \"Saturday 9 May 2018\" to \"2018-05-09\". If we visualize the computed $\\alpha^{\\langle t, t' \\rangle}$ we get this: \n",
    "\n",
    "<img src=\"images/date_attention.png\" style=\"width:600;height:300px;\"> <br>\n",
    "<caption><center> **Figure 8**: Full Attention Map</center></caption>\n",
    "\n",
    "Notice how the output ignores the \"Saturday\" portion of the input. None of the output timesteps are paying much attention to that portion of the input. We see also that 9 has been translated as 09 and May has been correctly translated into 05, with the output paying attention to the parts of the input it needs to to make the translation. The year mostly requires it to pay attention to the input's \"18\" in order to generate \"2018.\" \n",
    "\n"
   ]
  },
  {
   "cell_type": "markdown",
   "metadata": {},
   "source": [
    "### 3.1 - Getting the activations from the network\n",
    "\n",
    "Lets now visualize the attention values in your network. We'll propagate an example through the network, then visualize the values of $\\alpha^{\\langle t, t' \\rangle}$. \n",
    "\n",
    "To figure out where the attention values are located, let's start by printing a summary of the model ."
   ]
  },
  {
   "cell_type": "code",
   "execution_count": 27,
   "metadata": {},
   "outputs": [
    {
     "name": "stdout",
     "output_type": "stream",
     "text": [
      "__________________________________________________________________________________________________\n",
      "Layer (type)                    Output Shape         Param #     Connected to                     \n",
      "==================================================================================================\n",
      "input_1 (InputLayer)            (None, 30, 37)       0                                            \n",
      "__________________________________________________________________________________________________\n",
      "s0 (InputLayer)                 (None, 64)           0                                            \n",
      "__________________________________________________________________________________________________\n",
      "bidirectional_1 (Bidirectional) (None, 30, 64)       17920       input_1[0][0]                    \n",
      "__________________________________________________________________________________________________\n",
      "repeat_vector_1 (RepeatVector)  (None, 30, 64)       0           s0[0][0]                         \n",
      "                                                                 lstm_1[0][0]                     \n",
      "                                                                 lstm_1[1][0]                     \n",
      "                                                                 lstm_1[2][0]                     \n",
      "                                                                 lstm_1[3][0]                     \n",
      "                                                                 lstm_1[4][0]                     \n",
      "                                                                 lstm_1[5][0]                     \n",
      "                                                                 lstm_1[6][0]                     \n",
      "                                                                 lstm_1[7][0]                     \n",
      "                                                                 lstm_1[8][0]                     \n",
      "__________________________________________________________________________________________________\n",
      "concatenate_1 (Concatenate)     (None, 30, 128)      0           bidirectional_1[0][0]            \n",
      "                                                                 repeat_vector_1[0][0]            \n",
      "                                                                 bidirectional_1[0][0]            \n",
      "                                                                 repeat_vector_1[1][0]            \n",
      "                                                                 bidirectional_1[0][0]            \n",
      "                                                                 repeat_vector_1[2][0]            \n",
      "                                                                 bidirectional_1[0][0]            \n",
      "                                                                 repeat_vector_1[3][0]            \n",
      "                                                                 bidirectional_1[0][0]            \n",
      "                                                                 repeat_vector_1[4][0]            \n",
      "                                                                 bidirectional_1[0][0]            \n",
      "                                                                 repeat_vector_1[5][0]            \n",
      "                                                                 bidirectional_1[0][0]            \n",
      "                                                                 repeat_vector_1[6][0]            \n",
      "                                                                 bidirectional_1[0][0]            \n",
      "                                                                 repeat_vector_1[7][0]            \n",
      "                                                                 bidirectional_1[0][0]            \n",
      "                                                                 repeat_vector_1[8][0]            \n",
      "                                                                 bidirectional_1[0][0]            \n",
      "                                                                 repeat_vector_1[9][0]            \n",
      "__________________________________________________________________________________________________\n",
      "dense_1 (Dense)                 (None, 30, 10)       1290        concatenate_1[0][0]              \n",
      "                                                                 concatenate_1[1][0]              \n",
      "                                                                 concatenate_1[2][0]              \n",
      "                                                                 concatenate_1[3][0]              \n",
      "                                                                 concatenate_1[4][0]              \n",
      "                                                                 concatenate_1[5][0]              \n",
      "                                                                 concatenate_1[6][0]              \n",
      "                                                                 concatenate_1[7][0]              \n",
      "                                                                 concatenate_1[8][0]              \n",
      "                                                                 concatenate_1[9][0]              \n",
      "__________________________________________________________________________________________________\n",
      "dense_2 (Dense)                 (None, 30, 1)        11          dense_1[0][0]                    \n",
      "                                                                 dense_1[1][0]                    \n",
      "                                                                 dense_1[2][0]                    \n",
      "                                                                 dense_1[3][0]                    \n",
      "                                                                 dense_1[4][0]                    \n",
      "                                                                 dense_1[5][0]                    \n",
      "                                                                 dense_1[6][0]                    \n",
      "                                                                 dense_1[7][0]                    \n",
      "                                                                 dense_1[8][0]                    \n",
      "                                                                 dense_1[9][0]                    \n",
      "__________________________________________________________________________________________________\n",
      "attention_weights (Activation)  (None, 30, 1)        0           dense_2[0][0]                    \n",
      "                                                                 dense_2[1][0]                    \n",
      "                                                                 dense_2[2][0]                    \n",
      "                                                                 dense_2[3][0]                    \n",
      "                                                                 dense_2[4][0]                    \n",
      "                                                                 dense_2[5][0]                    \n",
      "                                                                 dense_2[6][0]                    \n",
      "                                                                 dense_2[7][0]                    \n",
      "                                                                 dense_2[8][0]                    \n",
      "                                                                 dense_2[9][0]                    \n",
      "__________________________________________________________________________________________________\n",
      "dot_1 (Dot)                     (None, 1, 64)        0           attention_weights[0][0]          \n",
      "                                                                 bidirectional_1[0][0]            \n",
      "                                                                 attention_weights[1][0]          \n",
      "                                                                 bidirectional_1[0][0]            \n",
      "                                                                 attention_weights[2][0]          \n",
      "                                                                 bidirectional_1[0][0]            \n",
      "                                                                 attention_weights[3][0]          \n",
      "                                                                 bidirectional_1[0][0]            \n",
      "                                                                 attention_weights[4][0]          \n",
      "                                                                 bidirectional_1[0][0]            \n",
      "                                                                 attention_weights[5][0]          \n",
      "                                                                 bidirectional_1[0][0]            \n",
      "                                                                 attention_weights[6][0]          \n",
      "                                                                 bidirectional_1[0][0]            \n",
      "                                                                 attention_weights[7][0]          \n",
      "                                                                 bidirectional_1[0][0]            \n",
      "                                                                 attention_weights[8][0]          \n",
      "                                                                 bidirectional_1[0][0]            \n",
      "                                                                 attention_weights[9][0]          \n",
      "                                                                 bidirectional_1[0][0]            \n",
      "__________________________________________________________________________________________________\n",
      "c0 (InputLayer)                 (None, 64)           0                                            \n",
      "__________________________________________________________________________________________________\n",
      "lstm_1 (LSTM)                   [(None, 64), (None,  33024       dot_1[0][0]                      \n",
      "                                                                 s0[0][0]                         \n",
      "                                                                 c0[0][0]                         \n",
      "                                                                 dot_1[1][0]                      \n",
      "                                                                 lstm_1[0][0]                     \n",
      "                                                                 lstm_1[0][2]                     \n",
      "                                                                 dot_1[2][0]                      \n",
      "                                                                 lstm_1[1][0]                     \n",
      "                                                                 lstm_1[1][2]                     \n",
      "                                                                 dot_1[3][0]                      \n",
      "                                                                 lstm_1[2][0]                     \n",
      "                                                                 lstm_1[2][2]                     \n",
      "                                                                 dot_1[4][0]                      \n",
      "                                                                 lstm_1[3][0]                     \n",
      "                                                                 lstm_1[3][2]                     \n",
      "                                                                 dot_1[5][0]                      \n",
      "                                                                 lstm_1[4][0]                     \n",
      "                                                                 lstm_1[4][2]                     \n",
      "                                                                 dot_1[6][0]                      \n",
      "                                                                 lstm_1[5][0]                     \n",
      "                                                                 lstm_1[5][2]                     \n",
      "                                                                 dot_1[7][0]                      \n",
      "                                                                 lstm_1[6][0]                     \n",
      "                                                                 lstm_1[6][2]                     \n",
      "                                                                 dot_1[8][0]                      \n",
      "                                                                 lstm_1[7][0]                     \n",
      "                                                                 lstm_1[7][2]                     \n",
      "                                                                 dot_1[9][0]                      \n",
      "                                                                 lstm_1[8][0]                     \n",
      "                                                                 lstm_1[8][2]                     \n",
      "__________________________________________________________________________________________________\n",
      "dense_3 (Dense)                 (None, 11)           715         lstm_1[0][0]                     \n",
      "                                                                 lstm_1[1][0]                     \n",
      "                                                                 lstm_1[2][0]                     \n",
      "                                                                 lstm_1[3][0]                     \n",
      "                                                                 lstm_1[4][0]                     \n",
      "                                                                 lstm_1[5][0]                     \n",
      "                                                                 lstm_1[6][0]                     \n",
      "                                                                 lstm_1[7][0]                     \n",
      "                                                                 lstm_1[8][0]                     \n",
      "                                                                 lstm_1[9][0]                     \n",
      "==================================================================================================\n",
      "Total params: 52,960\n",
      "Trainable params: 52,960\n",
      "Non-trainable params: 0\n",
      "__________________________________________________________________________________________________\n"
     ]
    }
   ],
   "source": [
    "model.summary()"
   ]
  },
  {
   "cell_type": "markdown",
   "metadata": {},
   "source": [
    "Navigate through the output of `model.summary()` above. You can see that the layer named `attention_weights` outputs the `alphas` of shape (m, 30, 1) before `dot_2` computes the context vector for every time step $t = 0, \\ldots, T_y-1$. Lets get the activations from this layer.\n",
    "\n",
    "The function `attention_map()` pulls out the attention values from your model and plots them."
   ]
  },
  {
   "cell_type": "code",
   "execution_count": 28,
   "metadata": {
    "scrolled": false
   },
   "outputs": [
    {
     "data": {
      "text/plain": [
       "<Figure size 432x288 with 0 Axes>"
      ]
     },
     "metadata": {},
     "output_type": "display_data"
    },
    {
     "data": {
      "image/png": "[encoded data removed]",
      "text/plain": [
       "<Figure size 576x612 with 2 Axes>"
      ]
     },
     "metadata": {
      "needs_background": "light"
     },
     "output_type": "display_data"
    }
   ],
   "source": [
    "attention_map = plot_attention_map(model, human_vocab, inv_machine_vocab, \"Tuesday 09 Oct 1993\", num = 7, n_s = 64)"
   ]
  },
  {
   "cell_type": "markdown",
   "metadata": {},
   "source": [
    "On the generated plot you can observe the values of the attention weights for each character of the predicted output. Examine this plot and check that where the network is paying attention makes sense to you.\n",
    "\n",
    "In the date translation application, you will observe that most of the time attention helps predict the year, and hasn't much impact on predicting the day/month."
   ]
  },
  {
   "cell_type": "markdown",
   "metadata": {},
   "source": [
    "### Congratulations!\n",
    "\n",
    "\n",
    "You have come to the end of this assignment \n",
    "\n",
    "<font color='blue'> **Here's what you should remember from this notebook**:\n",
    "\n",
    "- Machine translation models can be used to map from one sequence to another. They are useful not just for translating human languages (like French->English) but also for tasks like date format translation. \n",
    "- An attention mechanism allows a network to focus on the most relevant parts of the input when producing a specific part of the output. \n",
    "- A network using an attention mechanism can translate from inputs of length $T_x$ to outputs of length $T_y$, where $T_x$ and $T_y$ can be different. \n",
    "- You can visualize attention weights $\\alpha^{\\langle t,t' \\rangle}$ to see what the network is paying attention to while generating each output."
   ]
  },
  {
   "cell_type": "markdown",
   "metadata": {},
   "source": [
    "Congratulations on finishing this assignment! You are now able to implement an attention model and use it to learn complex mappings from one sequence to another. "
   ]
  }
 ],
 "metadata": {
  "coursera": {
   "course_slug": "nlp-sequence-models",
   "graded_item_id": "n16CQ",
   "launcher_item_id": "npjGi"
  },
  "kernelspec": {
   "display_name": "Python 3",
   "language": "python",
   "name": "python3"
  },
  "language_info": {
   "codemirror_mode": {
    "name": "ipython",
    "version": 3
   },
   "file_extension": ".py",
   "mimetype": "text/x-python",
   "name": "python",
   "nbconvert_exporter": "python",
   "pygments_lexer": "ipython3",
   "version": "3.6.6"
  }
 },
 "nbformat": 4,
 "nbformat_minor": 2
}
